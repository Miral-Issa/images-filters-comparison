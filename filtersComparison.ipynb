{
  "nbformat": 4,
  "nbformat_minor": 0,
  "metadata": {
    "colab": {
      "provenance": []
    },
    "kernelspec": {
      "name": "python3",
      "display_name": "Python 3"
    },
    "language_info": {
      "name": "python"
    }
  },
  "cells": [
    {
      "cell_type": "markdown",
      "source": [
        "# Comparing different types of filters:"
      ],
      "metadata": {
        "id": "idf-lnKD5WKu"
      }
    },
    {
      "cell_type": "markdown",
      "source": [
        "Data collection:"
      ],
      "metadata": {
        "id": "i5qjRkLQ6SI_"
      }
    },
    {
      "cell_type": "code",
      "execution_count": 1,
      "metadata": {
        "id": "kL0D5tUpoxcJ"
      },
      "outputs": [],
      "source": [
        "import os\n",
        "import cv2\n",
        "import pandas as pd\n",
        "import matplotlib.pyplot as plt\n",
        "import time\n",
        "import numpy as np"
      ]
    },
    {
      "cell_type": "code",
      "source": [
        "\n",
        "image_folder = '/content/original_images'\n",
        "\n",
        "data = []\n",
        "\n",
        "for filename in os.listdir(image_folder):\n",
        "    if filename.endswith(('.png', '.jpg', '.jpeg')):\n",
        "        img = cv2.imread(os.path.join(image_folder, filename))\n",
        "        if img is not None:\n",
        "            # Convert to grayscale\n",
        "            gray_img = cv2.cvtColor(img, cv2.COLOR_BGR2GRAY)\n",
        "            data.append({'filename': filename, 'image': gray_img})\n",
        "\n",
        "original = pd.DataFrame(data)"
      ],
      "metadata": {
        "id": "EVvQtwxJ6a8z"
      },
      "execution_count": 2,
      "outputs": []
    },
    {
      "cell_type": "code",
      "source": [
        "def add_salt_pepper_noise(image, prob):\n",
        "    noisy_image = image.copy()\n",
        "\n",
        "    num_salt = np.ceil(prob * image.size * 0.5)\n",
        "    coords = [np.random.randint(0, i - 1, int(num_salt)) for i in image.shape]\n",
        "    noisy_image[coords[0], coords[1]] = 1\n",
        "\n",
        "    num_pepper = np.ceil(prob * image.size * 0.5)\n",
        "    coords = [np.random.randint(0, i - 1, int(num_pepper)) for i in image.shape]\n",
        "    noisy_image[coords[0], coords[1]] = 0\n",
        "\n",
        "    return noisy_image\n",
        "\n",
        "noise_levels = [0.01, 0.08, 0.2]\n",
        "\n",
        "noisy_data = []\n",
        "\n",
        "for index, row in original.iterrows():\n",
        "    for level in noise_levels:\n",
        "        noisy_img = add_salt_pepper_noise(row['image'], level)\n",
        "        noisy_data.append({\n",
        "            'filename': f\"{row['filename']}_noise_{level}\",\n",
        "            'image': noisy_img,\n",
        "            'noise_level': level\n",
        "        })\n",
        "\n",
        "\n",
        "salty = pd.DataFrame(noisy_data)"
      ],
      "metadata": {
        "id": "sVsOymxM6pIH"
      },
      "execution_count": 3,
      "outputs": []
    },
    {
      "cell_type": "code",
      "source": [
        "def add_gaussian_noise(image, var, mean=20):\n",
        "    sigma = var**0.5\n",
        "    gaussian_noise = np.random.normal(mean, sigma, image.shape)\n",
        "\n",
        "    noisy_image = image + gaussian_noise\n",
        "\n",
        "    noisy_image = np.clip(noisy_image, 0, 255).astype(np.uint8)\n",
        "\n",
        "    return noisy_image\n",
        "\n",
        "gaussian_variances = [50, 100, 200]\n",
        "\n",
        "noisy_data_gaussian = []\n",
        "\n",
        "for index, row in original.iterrows():\n",
        "    for var in gaussian_variances:\n",
        "        noisy_img = add_gaussian_noise(row['image'], var=var)\n",
        "        noisy_data_gaussian.append({\n",
        "            'filename': f\"{row['filename']}_gaussian_{var}\",\n",
        "            'image': noisy_img,\n",
        "            'variance': var\n",
        "        })\n",
        "\n",
        "gaussian_noise = pd.DataFrame(noisy_data_gaussian)"
      ],
      "metadata": {
        "id": "fHy02i2D6xG_"
      },
      "execution_count": 4,
      "outputs": []
    },
    {
      "cell_type": "code",
      "source": [
        "Computational_times = {}\n",
        "average_MSE = {}\n",
        "average_psnr = {}"
      ],
      "metadata": {
        "id": "agjzwh3y7GID"
      },
      "execution_count": 5,
      "outputs": []
    },
    {
      "cell_type": "code",
      "source": [
        "def calculate_mse(original, filtered):\n",
        "    return np.mean((original - filtered) ** 2)\n",
        "\n",
        "def calculate_psnr(mse, max_pixel=255.0):\n",
        "    return 20 * np.log10(max_pixel) - 10 * np.log10(mse) if mse > 0 else float('inf')"
      ],
      "metadata": {
        "id": "a76BZdQ179W_"
      },
      "execution_count": 10,
      "outputs": []
    },
    {
      "cell_type": "markdown",
      "source": [
        "# Box Filter:"
      ],
      "metadata": {
        "id": "v92dkjX87K-t"
      }
    },
    {
      "cell_type": "code",
      "source": [
        "def apply_box_filter(image, ksize=(5, 5)):\n",
        "    filtered_image = cv2.boxFilter(image, ddepth=-1, ksize=ksize)\n",
        "    return filtered_image"
      ],
      "metadata": {
        "id": "7-UULCA_7X5K"
      },
      "execution_count": 6,
      "outputs": []
    },
    {
      "cell_type": "code",
      "source": [
        "Computational_times['box filter'] = {}\n",
        "average_MSE['box filter'] = {}\n",
        "average_psnr['box filter'] = {}"
      ],
      "metadata": {
        "id": "z1g250uA7gyf"
      },
      "execution_count": 7,
      "outputs": []
    },
    {
      "cell_type": "code",
      "source": [
        "Computational_times['box filter']['salt and pepper'] = []\n",
        "average_MSE['box filter']['salt and pepper'] = []\n",
        "average_psnr['box filter']['salt and pepper'] = []"
      ],
      "metadata": {
        "id": "oFCnu9Wk7oXF"
      },
      "execution_count": 25,
      "outputs": []
    },
    {
      "cell_type": "code",
      "source": [
        "start_time = time.time()\n",
        "\n",
        "filtered_data = []\n",
        "\n",
        "for index, row in salty.iterrows():\n",
        "    filtered_img = apply_box_filter(row['image'], ksize=(5, 5))\n",
        "    filtered_data.append({\n",
        "        'filename': f\"{row['filename']}_filtered\",\n",
        "        'image': filtered_img,\n",
        "    })\n",
        "\n",
        "end_time = time.time()\n",
        "\n",
        "total_time = end_time - start_time\n",
        "Computational_times['box filter']['salt and pepper'].append(total_time)\n",
        "\n",
        "filtered_images = pd.DataFrame(filtered_data)"
      ],
      "metadata": {
        "id": "DXRfFMTQ7bMK"
      },
      "execution_count": 26,
      "outputs": []
    },
    {
      "cell_type": "code",
      "source": [
        "counter = 0\n",
        "mse_sum = 0\n",
        "psnr_sum = 0\n",
        "\n",
        "for index, row in original.iterrows():\n",
        "    original_img = row['image']\n",
        "\n",
        "    filtered_img_rows = filtered_images[filtered_images['filename'].str.contains(row['filename'])]\n",
        "\n",
        "    for _, filtered_row in filtered_img_rows.iterrows():\n",
        "        filtered_img = filtered_row['image']\n",
        "\n",
        "        mse = calculate_mse(original_img, filtered_img)\n",
        "        mse_sum += mse\n",
        "        psnr = calculate_psnr(mse)\n",
        "        psnr_sum += psnr\n",
        "\n",
        "        counter +=1\n",
        "\n",
        "avrg_mse = mse_sum/counter\n",
        "average_MSE['box filter']['salt and pepper'].append(avrg_mse)\n",
        "print(f\"avarage mse = {avrg_mse}\")\n",
        "\n",
        "avrg_psnr = psnr_sum/counter\n",
        "average_psnr['box filter']['salt and pepper'].append(avrg_psnr)\n",
        "print(f\"avarage psnr = {avrg_psnr}\")"
      ],
      "metadata": {
        "colab": {
          "base_uri": "https://localhost:8080/"
        },
        "id": "JDImqAuT75K6",
        "outputId": "a06ca9db-8d48-494c-bb26-8a04de385dd0"
      },
      "execution_count": 27,
      "outputs": [
        {
          "output_type": "stream",
          "name": "stdout",
          "text": [
            "avarage mse = 79.27544544603639\n",
            "avarage psnr = 29.513939176505275\n"
          ]
        }
      ]
    },
    {
      "cell_type": "code",
      "source": [
        "start_time = time.time()\n",
        "\n",
        "filtered_data = []\n",
        "\n",
        "for index, row in salty.iterrows():\n",
        "    filtered_img = apply_box_filter(row['image'], ksize=(11, 11))\n",
        "    filtered_data.append({\n",
        "        'filename': f\"{row['filename']}_filtered\",\n",
        "        'image': filtered_img,\n",
        "    })\n",
        "\n",
        "end_time = time.time()\n",
        "\n",
        "total_time = end_time - start_time\n",
        "Computational_times['box filter']['salt and pepper'].append(total_time)\n",
        "\n",
        "filtered_images = pd.DataFrame(filtered_data)"
      ],
      "metadata": {
        "id": "CO4BPirb8Orp"
      },
      "execution_count": 28,
      "outputs": []
    },
    {
      "cell_type": "code",
      "source": [
        "counter = 0\n",
        "mse_sum = 0\n",
        "psnr_sum = 0\n",
        "\n",
        "for index, row in original.iterrows():\n",
        "    original_img = row['image']\n",
        "\n",
        "    filtered_img_rows = filtered_images[filtered_images['filename'].str.contains(row['filename'])]\n",
        "\n",
        "    for _, filtered_row in filtered_img_rows.iterrows():\n",
        "        filtered_img = filtered_row['image']\n",
        "\n",
        "        mse = calculate_mse(original_img, filtered_img)\n",
        "        mse_sum += mse\n",
        "        psnr = calculate_psnr(mse)\n",
        "        psnr_sum += psnr\n",
        "\n",
        "        counter +=1\n",
        "\n",
        "avrg_mse = mse_sum/counter\n",
        "average_MSE['box filter']['salt and pepper'].append(avrg_mse)\n",
        "print(f\"avarage mse = {avrg_mse}\")\n",
        "\n",
        "avrg_psnr = psnr_sum/counter\n",
        "average_psnr['box filter']['salt and pepper'].append(avrg_psnr)\n",
        "print(f\"avarage psnr = {avrg_psnr}\")"
      ],
      "metadata": {
        "colab": {
          "base_uri": "https://localhost:8080/"
        },
        "id": "L549bSJw8TLg",
        "outputId": "5e7a4cdc-9f27-40ac-808c-be703bf52f90"
      },
      "execution_count": 29,
      "outputs": [
        {
          "output_type": "stream",
          "name": "stdout",
          "text": [
            "avarage mse = 86.54360995378096\n",
            "avarage psnr = 29.039323335260278\n"
          ]
        }
      ]
    },
    {
      "cell_type": "code",
      "source": [
        "Computational_times['box filter']['gaussian'] = []\n",
        "average_MSE['box filter']['gaussian'] = []\n",
        "average_psnr['box filter']['gaussian'] = []"
      ],
      "metadata": {
        "id": "N1b-QK438X4b"
      },
      "execution_count": 30,
      "outputs": []
    },
    {
      "cell_type": "code",
      "source": [
        "start_time = time.time()\n",
        "\n",
        "filtered_data = []\n",
        "\n",
        "for index, row in gaussian_noise.iterrows():\n",
        "    filtered_img = apply_box_filter(row['image'], ksize=(5, 5))\n",
        "    filtered_data.append({\n",
        "        'filename': f\"{row['filename']}_filtered\",\n",
        "        'image': filtered_img,\n",
        "    })\n",
        "\n",
        "end_time = time.time()\n",
        "\n",
        "total_time = end_time - start_time\n",
        "Computational_times['box filter']['gaussian'].append(total_time)\n",
        "\n",
        "filtered_images = pd.DataFrame(filtered_data)"
      ],
      "metadata": {
        "id": "WOFxm_jw8dvR"
      },
      "execution_count": 31,
      "outputs": []
    },
    {
      "cell_type": "code",
      "source": [
        "counter = 0\n",
        "mse_sum = 0\n",
        "psnr_sum = 0\n",
        "\n",
        "for index, row in original.iterrows():\n",
        "    original_img = row['image']\n",
        "\n",
        "    filtered_img_rows = filtered_images[filtered_images['filename'].str.contains(row['filename'])]\n",
        "\n",
        "    for _, filtered_row in filtered_img_rows.iterrows():\n",
        "        filtered_img = filtered_row['image']\n",
        "\n",
        "        mse = calculate_mse(original_img, filtered_img)\n",
        "        mse_sum += mse\n",
        "        psnr = calculate_psnr(mse)\n",
        "        psnr_sum += psnr\n",
        "\n",
        "        counter +=1\n",
        "\n",
        "avrg_mse = mse_sum/counter\n",
        "average_MSE['box filter']['gaussian'].append(avrg_mse)\n",
        "print(f\"avarage mse = {avrg_mse}\")\n",
        "\n",
        "avrg_psnr = psnr_sum/counter\n",
        "average_psnr['box filter']['gaussian'].append(avrg_psnr)\n",
        "print(f\"avarage psnr = {avrg_psnr}\")"
      ],
      "metadata": {
        "colab": {
          "base_uri": "https://localhost:8080/"
        },
        "id": "_WcVmiRy8noX",
        "outputId": "71ff67eb-f50c-4d85-9519-efd94dec916f"
      },
      "execution_count": 32,
      "outputs": [
        {
          "output_type": "stream",
          "name": "stdout",
          "text": [
            "avarage mse = 92.44091176529274\n",
            "avarage psnr = 28.69155170085817\n"
          ]
        }
      ]
    },
    {
      "cell_type": "code",
      "source": [
        "start_time = time.time()\n",
        "\n",
        "filtered_data = []\n",
        "\n",
        "for index, row in gaussian_noise.iterrows():\n",
        "    filtered_img = apply_box_filter(row['image'], ksize=(11, 11))\n",
        "    filtered_data.append({\n",
        "        'filename': f\"{row['filename']}_filtered\",\n",
        "        'image': filtered_img,\n",
        "    })\n",
        "\n",
        "end_time = time.time()\n",
        "\n",
        "total_time = end_time - start_time\n",
        "Computational_times['box filter']['gaussian'].append(total_time)\n",
        "\n",
        "filtered_images = pd.DataFrame(filtered_data)"
      ],
      "metadata": {
        "id": "L02rcIm58zDi"
      },
      "execution_count": 33,
      "outputs": []
    },
    {
      "cell_type": "code",
      "source": [
        "counter = 0\n",
        "mse_sum = 0\n",
        "psnr_sum = 0\n",
        "\n",
        "for index, row in original.iterrows():\n",
        "    original_img = row['image']\n",
        "\n",
        "    filtered_img_rows = filtered_images[filtered_images['filename'].str.contains(row['filename'])]\n",
        "\n",
        "    for _, filtered_row in filtered_img_rows.iterrows():\n",
        "        filtered_img = filtered_row['image']\n",
        "\n",
        "        mse = calculate_mse(original_img, filtered_img)\n",
        "        mse_sum += mse\n",
        "        psnr = calculate_psnr(mse)\n",
        "        psnr_sum += psnr\n",
        "\n",
        "        counter +=1\n",
        "\n",
        "avrg_mse = mse_sum/counter\n",
        "average_MSE['box filter']['gaussian'].append(avrg_mse)\n",
        "print(f\"avarage mse = {avrg_mse}\")\n",
        "\n",
        "avrg_psnr = psnr_sum/counter\n",
        "average_psnr['box filter']['gaussian'].append(avrg_psnr)\n",
        "print(f\"avarage psnr = {avrg_psnr}\")"
      ],
      "metadata": {
        "colab": {
          "base_uri": "https://localhost:8080/"
        },
        "id": "oHrGCvd_82kk",
        "outputId": "8fac3eb4-7724-4369-bfbb-5991a20608b2"
      },
      "execution_count": 34,
      "outputs": [
        {
          "output_type": "stream",
          "name": "stdout",
          "text": [
            "avarage mse = 92.70677240030038\n",
            "avarage psnr = 28.60349364580841\n"
          ]
        }
      ]
    },
    {
      "cell_type": "code",
      "source": [
        "print(Computational_times)\n",
        "print(average_MSE)\n",
        "print(average_psnr)"
      ],
      "metadata": {
        "colab": {
          "base_uri": "https://localhost:8080/"
        },
        "id": "kGgGezNr87WO",
        "outputId": "16d56468-d960-4639-9862-59d54aa0a01c"
      },
      "execution_count": 43,
      "outputs": [
        {
          "output_type": "stream",
          "name": "stdout",
          "text": [
            "{'box filter': {'salt and pepper': [0.01754903793334961, 0.010097980499267578], 'gaussian': [0.008693218231201172, 0.008643150329589844]}, 'Gaussian filter': {'salt and pepper': [0.026183128356933594]}}\n",
            "{'box filter': {'salt and pepper': [79.27544544603639, 86.54360995378096], 'gaussian': [92.44091176529274, 92.70677240030038]}, 'Gaussian filter': {'salt and pepper': []}}\n",
            "{'box filter': {'salt and pepper': [29.513939176505275, 29.039323335260278], 'gaussian': [28.69155170085817, 28.60349364580841]}, 'Gaussian filter': {'salt and pepper': []}}\n"
          ]
        }
      ]
    },
    {
      "cell_type": "markdown",
      "source": [
        "# Gaussian filter:"
      ],
      "metadata": {
        "id": "SEcDOZXH9E2K"
      }
    },
    {
      "cell_type": "code",
      "source": [
        "Computational_times['Gaussian filter'] = {}\n",
        "average_MSE['Gaussian filter'] = {}\n",
        "average_psnr['Gaussian filter'] = {}"
      ],
      "metadata": {
        "id": "dJdo284L9VKb"
      },
      "execution_count": 36,
      "outputs": []
    },
    {
      "cell_type": "code",
      "source": [
        "Computational_times['Gaussian filter']['salt and pepper'] = []\n",
        "average_MSE['Gaussian filter']['salt and pepper'] = []\n",
        "average_psnr['Gaussian filter']['salt and pepper'] = []"
      ],
      "metadata": {
        "id": "I9ughIgM9vNk"
      },
      "execution_count": 37,
      "outputs": []
    },
    {
      "cell_type": "code",
      "source": [
        "def apply_gaussian_filter(image, ksize=(5, 5), sigma=1):\n",
        "    filtered_image = cv2.GaussianBlur(image, ksize, sigma)\n",
        "    return filtered_image"
      ],
      "metadata": {
        "id": "92M0EZue91-f"
      },
      "execution_count": 38,
      "outputs": []
    },
    {
      "cell_type": "code",
      "source": [
        "start_time = time.time()\n",
        "\n",
        "filtered_data = []\n",
        "\n",
        "for index, row in salty.iterrows():\n",
        "    filtered_img = apply_gaussian_filter(row['image'], ksize=(5, 5), sigma=1)\n",
        "    filtered_data.append({\n",
        "        'filename': f\"{row['filename']}_gaussian_filtered\",\n",
        "        'image': filtered_img,\n",
        "    })\n",
        "\n",
        "end_time = time.time()\n",
        "\n",
        "total_time = end_time - start_time\n",
        "Computational_times['Gaussian filter']['salt and pepper'].append(total_time)\n",
        "\n",
        "filtered_images = pd.DataFrame(filtered_data)"
      ],
      "metadata": {
        "id": "HNSVzBE393HM"
      },
      "execution_count": 39,
      "outputs": []
    },
    {
      "cell_type": "code",
      "source": [
        "counter = 0\n",
        "mse_sum = 0\n",
        "psnr_sum = 0\n",
        "\n",
        "for index, row in original.iterrows():\n",
        "    original_img = row['image']\n",
        "\n",
        "    filtered_img_rows = filtered_images[filtered_images['filename'].str.contains(row['filename'])]\n",
        "\n",
        "    for _, filtered_row in filtered_img_rows.iterrows():\n",
        "        filtered_img = filtered_row['image']\n",
        "\n",
        "        mse = calculate_mse(original_img, filtered_img)\n",
        "        mse_sum += mse\n",
        "        psnr = calculate_psnr(mse)\n",
        "        psnr_sum += psnr\n",
        "\n",
        "        counter +=1\n",
        "\n",
        "avrg_mse = mse_sum/counter\n",
        "average_MSE['Gaussian filter']['salt and pepper'].append(avrg_mse)\n",
        "print(f\"avarage mse = {avrg_mse}\")\n",
        "\n",
        "avrg_psnr = psnr_sum/counter\n",
        "average_psnr['Gaussian filter']['salt and pepper'].append(avrg_psnr)\n",
        "print(f\"avarage psnr = {avrg_psnr}\")"
      ],
      "metadata": {
        "colab": {
          "base_uri": "https://localhost:8080/"
        },
        "id": "jqniyNA19-S8",
        "outputId": "518a424a-689b-4b7c-d568-2dc7c7af4a01"
      },
      "execution_count": 44,
      "outputs": [
        {
          "output_type": "stream",
          "name": "stdout",
          "text": [
            "avarage mse = 68.55629655716312\n",
            "avarage psnr = 30.27564963465619\n"
          ]
        }
      ]
    },
    {
      "cell_type": "code",
      "source": [
        "start_time = time.time()\n",
        "\n",
        "filtered_data = []\n",
        "\n",
        "for index, row in salty.iterrows():\n",
        "    filtered_img = apply_gaussian_filter(row['image'], ksize=(11, 11), sigma=1)\n",
        "    filtered_data.append({\n",
        "        'filename': f\"{row['filename']}_gaussian_filtered\",\n",
        "        'image': filtered_img,\n",
        "    })\n",
        "\n",
        "end_time = time.time()\n",
        "\n",
        "total_time = end_time - start_time\n",
        "Computational_times['Gaussian filter']['salt and pepper'].append(total_time)\n",
        "\n",
        "filtered_images = pd.DataFrame(filtered_data)"
      ],
      "metadata": {
        "id": "p7eRZM0F-dPa"
      },
      "execution_count": 45,
      "outputs": []
    },
    {
      "cell_type": "code",
      "source": [
        "counter = 0\n",
        "mse_sum = 0\n",
        "psnr_sum = 0\n",
        "\n",
        "for index, row in original.iterrows():\n",
        "    original_img = row['image']\n",
        "\n",
        "    filtered_img_rows = filtered_images[filtered_images['filename'].str.contains(row['filename'])]\n",
        "\n",
        "    for _, filtered_row in filtered_img_rows.iterrows():\n",
        "        filtered_img = filtered_row['image']\n",
        "\n",
        "        mse = calculate_mse(original_img, filtered_img)\n",
        "        mse_sum += mse\n",
        "        psnr = calculate_psnr(mse)\n",
        "        psnr_sum += psnr\n",
        "\n",
        "        counter +=1\n",
        "\n",
        "avrg_mse = mse_sum/counter\n",
        "average_MSE['Gaussian filter']['salt and pepper'].append(avrg_mse)\n",
        "print(f\"avarage mse = {avrg_mse}\")\n",
        "\n",
        "avrg_psnr = psnr_sum/counter\n",
        "average_psnr['Gaussian filter']['salt and pepper'].append(avrg_psnr)\n",
        "print(f\"avarage psnr = {avrg_psnr}\")"
      ],
      "metadata": {
        "colab": {
          "base_uri": "https://localhost:8080/"
        },
        "id": "4AbYCMoH-grZ",
        "outputId": "df4e4f7d-a5b8-4f96-fc40-b77f8b3dd5ae"
      },
      "execution_count": 46,
      "outputs": [
        {
          "output_type": "stream",
          "name": "stdout",
          "text": [
            "avarage mse = 68.9694820107575\n",
            "avarage psnr = 30.253101163014794\n"
          ]
        }
      ]
    },
    {
      "cell_type": "code",
      "source": [
        "Computational_times['Gaussian filter']['gaussian'] = []\n",
        "average_MSE['Gaussian filter']['gaussian'] = []\n",
        "average_psnr['Gaussian filter']['gaussian'] = []"
      ],
      "metadata": {
        "id": "WKDzxc4p-k3z"
      },
      "execution_count": 47,
      "outputs": []
    },
    {
      "cell_type": "code",
      "source": [
        "start_time = time.time()\n",
        "\n",
        "filtered_data = []\n",
        "\n",
        "for index, row in gaussian_noise.iterrows():\n",
        "    filtered_img = apply_gaussian_filter(row['image'], ksize=(5, 5), sigma=1)\n",
        "    filtered_data.append({\n",
        "        'filename': f\"{row['filename']}_gaussian_filtered\",\n",
        "        'image': filtered_img,\n",
        "    })\n",
        "\n",
        "end_time = time.time()\n",
        "\n",
        "total_time = end_time - start_time\n",
        "Computational_times['Gaussian filter']['gaussian'].append(total_time)\n",
        "\n",
        "filtered_images = pd.DataFrame(filtered_data)"
      ],
      "metadata": {
        "id": "dWylaKc7-rON"
      },
      "execution_count": 48,
      "outputs": []
    },
    {
      "cell_type": "code",
      "source": [
        "counter = 0\n",
        "mse_sum = 0\n",
        "psnr_sum = 0\n",
        "\n",
        "for index, row in original.iterrows():\n",
        "    original_img = row['image']\n",
        "\n",
        "    filtered_img_rows = filtered_images[filtered_images['filename'].str.contains(row['filename'])]\n",
        "\n",
        "    for _, filtered_row in filtered_img_rows.iterrows():\n",
        "        filtered_img = filtered_row['image']\n",
        "\n",
        "        mse = calculate_mse(original_img, filtered_img)\n",
        "        mse_sum += mse\n",
        "        psnr = calculate_psnr(mse)\n",
        "        psnr_sum += psnr\n",
        "\n",
        "        counter +=1\n",
        "\n",
        "avrg_mse = mse_sum/counter\n",
        "average_MSE['Gaussian filter']['gaussian'].append(avrg_mse)\n",
        "print(f\"avarage mse = {avrg_mse}\")\n",
        "\n",
        "avrg_psnr = psnr_sum/counter\n",
        "average_psnr['Gaussian filter']['gaussian'].append(avrg_psnr)\n",
        "print(f\"avarage psnr = {avrg_psnr}\")"
      ],
      "metadata": {
        "colab": {
          "base_uri": "https://localhost:8080/"
        },
        "id": "36W6Y99D-yei",
        "outputId": "12df46eb-741f-488f-d5d6-2549bcf7b366"
      },
      "execution_count": 49,
      "outputs": [
        {
          "output_type": "stream",
          "name": "stdout",
          "text": [
            "avarage mse = 93.16125932199738\n",
            "avarage psnr = 28.665735471794612\n"
          ]
        }
      ]
    },
    {
      "cell_type": "code",
      "source": [
        "start_time = time.time()\n",
        "\n",
        "filtered_data = []\n",
        "\n",
        "for index, row in gaussian_noise.iterrows():\n",
        "    filtered_img = apply_gaussian_filter(row['image'], ksize=(11, 11), sigma=1)\n",
        "    filtered_data.append({\n",
        "        'filename': f\"{row['filename']}_gaussian_filtered\",\n",
        "        'image': filtered_img,\n",
        "    })\n",
        "\n",
        "end_time = time.time()\n",
        "\n",
        "total_time = end_time - start_time\n",
        "Computational_times['Gaussian filter']['gaussian'].append(total_time)\n",
        "\n",
        "filtered_images = pd.DataFrame(filtered_data)"
      ],
      "metadata": {
        "id": "P7oCf1lv-3jd"
      },
      "execution_count": 50,
      "outputs": []
    },
    {
      "cell_type": "code",
      "source": [
        "counter = 0\n",
        "mse_sum = 0\n",
        "psnr_sum = 0\n",
        "\n",
        "for index, row in original.iterrows():\n",
        "    original_img = row['image']\n",
        "\n",
        "    filtered_img_rows = filtered_images[filtered_images['filename'].str.contains(row['filename'])]\n",
        "\n",
        "    for _, filtered_row in filtered_img_rows.iterrows():\n",
        "        filtered_img = filtered_row['image']\n",
        "\n",
        "        mse = calculate_mse(original_img, filtered_img)\n",
        "        mse_sum += mse\n",
        "        psnr = calculate_psnr(mse)\n",
        "        psnr_sum += psnr\n",
        "\n",
        "        counter +=1\n",
        "\n",
        "avrg_mse = mse_sum/counter\n",
        "average_MSE['Gaussian filter']['gaussian'].append(avrg_mse)\n",
        "print(f\"avarage mse = {avrg_mse}\")\n",
        "\n",
        "avrg_psnr = psnr_sum/counter\n",
        "average_psnr['Gaussian filter']['gaussian'].append(avrg_psnr)\n",
        "print(f\"avarage psnr = {avrg_psnr}\")"
      ],
      "metadata": {
        "colab": {
          "base_uri": "https://localhost:8080/"
        },
        "id": "r2d3hHmg-6yp",
        "outputId": "59983cce-0bd7-43ef-e0ec-23841008e50b"
      },
      "execution_count": 51,
      "outputs": [
        {
          "output_type": "stream",
          "name": "stdout",
          "text": [
            "avarage mse = 93.13898616725429\n",
            "avarage psnr = 28.666914987229323\n"
          ]
        }
      ]
    },
    {
      "cell_type": "code",
      "source": [
        "print(Computational_times)\n",
        "print(average_MSE)\n",
        "print(average_psnr)"
      ],
      "metadata": {
        "colab": {
          "base_uri": "https://localhost:8080/"
        },
        "id": "C4syqNyy--xl",
        "outputId": "7bd85a73-55a7-4bb6-c986-6b36c30d3039"
      },
      "execution_count": 52,
      "outputs": [
        {
          "output_type": "stream",
          "name": "stdout",
          "text": [
            "{'box filter': {'salt and pepper': [0.01754903793334961, 0.010097980499267578], 'gaussian': [0.008693218231201172, 0.008643150329589844]}, 'Gaussian filter': {'salt and pepper': [0.026183128356933594, 0.022742271423339844], 'gaussian': [0.014070272445678711, 0.013068437576293945]}}\n",
            "{'box filter': {'salt and pepper': [79.27544544603639, 86.54360995378096], 'gaussian': [92.44091176529274, 92.70677240030038]}, 'Gaussian filter': {'salt and pepper': [68.55629655716312, 68.9694820107575], 'gaussian': [93.16125932199738, 93.13898616725429]}}\n",
            "{'box filter': {'salt and pepper': [29.513939176505275, 29.039323335260278], 'gaussian': [28.69155170085817, 28.60349364580841]}, 'Gaussian filter': {'salt and pepper': [30.27564963465619, 30.253101163014794], 'gaussian': [28.665735471794612, 28.666914987229323]}}\n"
          ]
        }
      ]
    },
    {
      "cell_type": "markdown",
      "source": [
        "# Median filter:"
      ],
      "metadata": {
        "id": "wo2CJf-l_BN7"
      }
    },
    {
      "cell_type": "code",
      "source": [
        "Computational_times['median filter'] = {}\n",
        "average_MSE['median filter'] = {}\n",
        "average_psnr['median filter'] = {}"
      ],
      "metadata": {
        "id": "NIKQW3LN_JrD"
      },
      "execution_count": 72,
      "outputs": []
    },
    {
      "cell_type": "code",
      "source": [
        "Computational_times['median filter']['salt and pepper'] = []\n",
        "average_MSE['median filter']['salt and pepper'] = []\n",
        "average_psnr['median filter']['salt and pepper'] = []"
      ],
      "metadata": {
        "id": "rImhHObb_QhN"
      },
      "execution_count": 73,
      "outputs": []
    },
    {
      "cell_type": "code",
      "source": [
        "def apply_median_filter(image, ksize=5):\n",
        "    filtered_image = cv2.medianBlur(image, ksize)\n",
        "    return filtered_image"
      ],
      "metadata": {
        "id": "nydjmC4b_ePq"
      },
      "execution_count": 74,
      "outputs": []
    },
    {
      "cell_type": "code",
      "source": [
        "start_time = time.time()\n",
        "\n",
        "filtered_data = []\n",
        "\n",
        "for index, row in salty.iterrows():\n",
        "    filtered_img = apply_median_filter(row['image'], ksize=5)\n",
        "    filtered_data.append({\n",
        "        'filename': f\"{row['filename']}_gaussian_filtered\",\n",
        "        'image': filtered_img,\n",
        "    })\n",
        "\n",
        "end_time = time.time()\n",
        "\n",
        "total_time = end_time - start_time\n",
        "Computational_times['median filter']['salt and pepper'].append(total_time)\n",
        "\n",
        "filtered_images = pd.DataFrame(filtered_data)"
      ],
      "metadata": {
        "id": "wvzkiUut_ivf"
      },
      "execution_count": 77,
      "outputs": []
    },
    {
      "cell_type": "code",
      "source": [
        "counter = 0\n",
        "mse_sum = 0\n",
        "psnr_sum = 0\n",
        "\n",
        "for index, row in original.iterrows():\n",
        "    original_img = row['image']\n",
        "\n",
        "    filtered_img_rows = filtered_images[filtered_images['filename'].str.contains(row['filename'])]\n",
        "\n",
        "    for _, filtered_row in filtered_img_rows.iterrows():\n",
        "        filtered_img = filtered_row['image']\n",
        "\n",
        "        mse = calculate_mse(original_img, filtered_img)\n",
        "        mse_sum += mse\n",
        "        psnr = calculate_psnr(mse)\n",
        "        psnr_sum += psnr\n",
        "\n",
        "        counter +=1\n",
        "\n",
        "avrg_mse = mse_sum/counter\n",
        "average_MSE['median filter']['salt and pepper'].append(avrg_mse)\n",
        "print(f\"avarage mse = {avrg_mse}\")\n",
        "\n",
        "avrg_psnr = psnr_sum/counter\n",
        "average_psnr['median filter']['salt and pepper'].append(avrg_psnr)\n",
        "print(f\"avarage psnr = {avrg_psnr}\")"
      ],
      "metadata": {
        "colab": {
          "base_uri": "https://localhost:8080/"
        },
        "id": "cB7io2WK_qrB",
        "outputId": "cbdfd557-787d-4511-9744-f04e5d439437"
      },
      "execution_count": 78,
      "outputs": [
        {
          "output_type": "stream",
          "name": "stdout",
          "text": [
            "avarage mse = 25.39650320913456\n",
            "avarage psnr = 34.34935925105379\n"
          ]
        }
      ]
    },
    {
      "cell_type": "code",
      "source": [
        "start_time = time.time()\n",
        "\n",
        "filtered_data = []\n",
        "\n",
        "for index, row in salty.iterrows():\n",
        "    filtered_img = apply_median_filter(row['image'], ksize=11)\n",
        "    filtered_data.append({\n",
        "        'filename': f\"{row['filename']}_gaussian_filtered\",\n",
        "        'image': filtered_img,\n",
        "    })\n",
        "\n",
        "end_time = time.time()\n",
        "\n",
        "total_time = end_time - start_time\n",
        "Computational_times['median filter']['salt and pepper'].append(total_time)\n",
        "\n",
        "filtered_images = pd.DataFrame(filtered_data)"
      ],
      "metadata": {
        "id": "wilXsJ3R_wnW"
      },
      "execution_count": 79,
      "outputs": []
    },
    {
      "cell_type": "code",
      "source": [
        "counter = 0\n",
        "mse_sum = 0\n",
        "psnr_sum = 0\n",
        "\n",
        "for index, row in original.iterrows():\n",
        "    original_img = row['image']\n",
        "\n",
        "    filtered_img_rows = filtered_images[filtered_images['filename'].str.contains(row['filename'])]\n",
        "\n",
        "    for _, filtered_row in filtered_img_rows.iterrows():\n",
        "        filtered_img = filtered_row['image']\n",
        "\n",
        "        mse = calculate_mse(original_img, filtered_img)\n",
        "        mse_sum += mse\n",
        "        psnr = calculate_psnr(mse)\n",
        "        psnr_sum += psnr\n",
        "\n",
        "        counter +=1\n",
        "\n",
        "avrg_mse = mse_sum/counter\n",
        "average_MSE['median filter']['salt and pepper'].append(avrg_mse)\n",
        "print(f\"avarage mse = {avrg_mse}\")\n",
        "\n",
        "avrg_psnr = psnr_sum/counter\n",
        "average_psnr['median filter']['salt and pepper'].append(avrg_psnr)\n",
        "print(f\"avarage psnr = {avrg_psnr}\")"
      ],
      "metadata": {
        "colab": {
          "base_uri": "https://localhost:8080/"
        },
        "id": "HG_S_pdp_zN4",
        "outputId": "1263be5e-1ac5-4e4c-99e1-b257e0baef5c"
      },
      "execution_count": 80,
      "outputs": [
        {
          "output_type": "stream",
          "name": "stdout",
          "text": [
            "avarage mse = 33.53542185231457\n",
            "avarage psnr = 33.22502811713373\n"
          ]
        }
      ]
    },
    {
      "cell_type": "code",
      "source": [
        "Computational_times['median filter']['gaussian'] = []\n",
        "average_MSE['median filter']['gaussian'] = []\n",
        "average_psnr['median filter']['gaussian'] = []"
      ],
      "metadata": {
        "id": "PSCyKuID_21H"
      },
      "execution_count": 81,
      "outputs": []
    },
    {
      "cell_type": "code",
      "source": [
        "start_time = time.time()\n",
        "\n",
        "filtered_data = []\n",
        "\n",
        "for index, row in gaussian_noise.iterrows():\n",
        "    filtered_img = apply_median_filter(row['image'], ksize=5)\n",
        "    filtered_data.append({\n",
        "        'filename': f\"{row['filename']}_gaussian_filtered\",\n",
        "        'image': filtered_img,\n",
        "    })\n",
        "\n",
        "end_time = time.time()\n",
        "\n",
        "total_time = end_time - start_time\n",
        "Computational_times['median filter']['gaussian'].append(total_time)\n",
        "\n",
        "filtered_images = pd.DataFrame(filtered_data)"
      ],
      "metadata": {
        "id": "JTkYRSQy_85b"
      },
      "execution_count": 82,
      "outputs": []
    },
    {
      "cell_type": "code",
      "source": [
        "counter = 0\n",
        "mse_sum = 0\n",
        "psnr_sum = 0\n",
        "\n",
        "for index, row in original.iterrows():\n",
        "    original_img = row['image']\n",
        "\n",
        "    filtered_img_rows = filtered_images[filtered_images['filename'].str.contains(row['filename'])]\n",
        "\n",
        "    for _, filtered_row in filtered_img_rows.iterrows():\n",
        "        filtered_img = filtered_row['image']\n",
        "\n",
        "        mse = calculate_mse(original_img, filtered_img)\n",
        "        mse_sum += mse\n",
        "        psnr = calculate_psnr(mse)\n",
        "        psnr_sum += psnr\n",
        "\n",
        "        counter +=1\n",
        "\n",
        "avrg_mse = mse_sum/counter\n",
        "average_MSE['median filter']['gaussian'].append(avrg_mse)\n",
        "print(f\"avarage mse = {avrg_mse}\")\n",
        "\n",
        "avrg_psnr = psnr_sum/counter\n",
        "average_psnr['median filter']['gaussian'].append(avrg_psnr)\n",
        "print(f\"avarage psnr = {avrg_psnr}\")"
      ],
      "metadata": {
        "colab": {
          "base_uri": "https://localhost:8080/"
        },
        "id": "wGDVWW4KAFI-",
        "outputId": "54c3e34a-6a55-4180-de35-57984bf9ae26"
      },
      "execution_count": 83,
      "outputs": [
        {
          "output_type": "stream",
          "name": "stdout",
          "text": [
            "avarage mse = 92.23035709915735\n",
            "avarage psnr = 28.723927539577105\n"
          ]
        }
      ]
    },
    {
      "cell_type": "code",
      "source": [
        "start_time = time.time()\n",
        "\n",
        "filtered_data = []\n",
        "\n",
        "for index, row in gaussian_noise.iterrows():\n",
        "    filtered_img = apply_median_filter(row['image'], ksize=11)\n",
        "    filtered_data.append({\n",
        "        'filename': f\"{row['filename']}_gaussian_filtered\",\n",
        "        'image': filtered_img,\n",
        "    })\n",
        "\n",
        "end_time = time.time()\n",
        "\n",
        "total_time = end_time - start_time\n",
        "Computational_times['median filter']['gaussian'].append(total_time)\n",
        "\n",
        "filtered_images = pd.DataFrame(filtered_data)"
      ],
      "metadata": {
        "id": "DKjpzdGIALjX"
      },
      "execution_count": 84,
      "outputs": []
    },
    {
      "cell_type": "code",
      "source": [
        "counter = 0\n",
        "mse_sum = 0\n",
        "psnr_sum = 0\n",
        "\n",
        "for index, row in original.iterrows():\n",
        "    original_img = row['image']\n",
        "\n",
        "    filtered_img_rows = filtered_images[filtered_images['filename'].str.contains(row['filename'])]\n",
        "\n",
        "    for _, filtered_row in filtered_img_rows.iterrows():\n",
        "        filtered_img = filtered_row['image']\n",
        "\n",
        "        mse = calculate_mse(original_img, filtered_img)\n",
        "        mse_sum += mse\n",
        "        psnr = calculate_psnr(mse)\n",
        "        psnr_sum += psnr\n",
        "\n",
        "        counter +=1\n",
        "\n",
        "avrg_mse = mse_sum/counter\n",
        "average_MSE['median filter']['gaussian'].append(avrg_mse)\n",
        "print(f\"avarage mse = {avrg_mse}\")\n",
        "\n",
        "avrg_psnr = psnr_sum/counter\n",
        "average_psnr['median filter']['gaussian'].append(avrg_psnr)\n",
        "print(f\"avarage psnr = {avrg_psnr}\")"
      ],
      "metadata": {
        "colab": {
          "base_uri": "https://localhost:8080/"
        },
        "id": "OKtE30yoAOiF",
        "outputId": "864a0b39-8707-4a64-80d6-cc6b983eacbb"
      },
      "execution_count": 85,
      "outputs": [
        {
          "output_type": "stream",
          "name": "stdout",
          "text": [
            "avarage mse = 91.16955419857914\n",
            "avarage psnr = 28.75128031263897\n"
          ]
        }
      ]
    },
    {
      "cell_type": "code",
      "source": [
        "print(Computational_times)\n",
        "print(average_MSE)\n",
        "print(average_psnr)"
      ],
      "metadata": {
        "colab": {
          "base_uri": "https://localhost:8080/"
        },
        "id": "hGRKVxoRASG4",
        "outputId": "ff704920-d2f2-4b03-af34-472d77a029e4"
      },
      "execution_count": 86,
      "outputs": [
        {
          "output_type": "stream",
          "name": "stdout",
          "text": [
            "{'box filter': {'salt and pepper': [0.01754903793334961, 0.010097980499267578], 'gaussian': [0.008693218231201172, 0.008643150329589844]}, 'Gaussian filter': {'salt and pepper': [0.026183128356933594, 0.022742271423339844], 'gaussian': [0.014070272445678711, 0.013068437576293945]}, 'median filter': {'salt and pepper': [0.032800912857055664, 0.16362214088439941], 'gaussian': [0.032048702239990234, 0.37059974670410156]}, 'adaptive mean filter': {'salt and pepper': []}}\n",
            "{'box filter': {'salt and pepper': [79.27544544603639, 86.54360995378096], 'gaussian': [92.44091176529274, 92.70677240030038]}, 'Gaussian filter': {'salt and pepper': [68.55629655716312, 68.9694820107575], 'gaussian': [93.16125932199738, 93.13898616725429]}, 'median filter': {'salt and pepper': [25.39650320913456, 33.53542185231457], 'gaussian': [92.23035709915735, 91.16955419857914]}, 'adaptive mean filter': {'salt and pepper': []}}\n",
            "{'box filter': {'salt and pepper': [29.513939176505275, 29.039323335260278], 'gaussian': [28.69155170085817, 28.60349364580841]}, 'Gaussian filter': {'salt and pepper': [30.27564963465619, 30.253101163014794], 'gaussian': [28.665735471794612, 28.666914987229323]}, 'median filter': {'salt and pepper': [34.34935925105379, 33.22502811713373], 'gaussian': [28.723927539577105, 28.75128031263897]}, 'adaptive mean filter': {'salt and pepper': []}}\n"
          ]
        }
      ]
    },
    {
      "cell_type": "markdown",
      "source": [
        "# Adaptive mean filter:"
      ],
      "metadata": {
        "id": "JxATuROtAWmB"
      }
    },
    {
      "cell_type": "code",
      "source": [
        "import os\n",
        "import cv2\n",
        "import pandas as pd\n",
        "import matplotlib.pyplot as plt\n",
        "import time\n",
        "import numpy as np\n",
        "import numpy as np\n",
        "from scipy.ndimage import generic_filter\n",
        "import numpy as np\n",
        "from scipy.ndimage import convolve, median_filter"
      ],
      "metadata": {
        "id": "l_U4Zq-GAaVG"
      },
      "execution_count": 66,
      "outputs": []
    },
    {
      "cell_type": "code",
      "source": [
        "def adaptive_mean_filter(img, kernel_size, max_kernel_size=7):\n",
        "    filtered_img = np.copy(img)\n",
        "\n",
        "    for cur_size in range(kernel_size, max_kernel_size + 1, 2):\n",
        "        local_region = median_filter(img[:, :], size=cur_size, mode='reflect')\n",
        "\n",
        "        z_min = np.min(local_region)\n",
        "        z_max = np.max(local_region)\n",
        "        z_med = np.mean(local_region)\n",
        "\n",
        "        if z_min < z_med < z_max:\n",
        "            filtered_img[:, :] = np.where(\n",
        "                (img[:, :] < z_min) | (img[:, :] > z_max), z_med, img[:, :]\n",
        "            )\n",
        "            break\n",
        "        else:\n",
        "            continue\n",
        "    else:\n",
        "        filtered_img[:, :] = z_med\n",
        "\n",
        "    return filtered_img\n"
      ],
      "metadata": {
        "id": "NPe3twhpAe3S"
      },
      "execution_count": 67,
      "outputs": []
    },
    {
      "cell_type": "code",
      "source": [
        "Computational_times['adaptive mean filter'] = {}\n",
        "average_MSE['adaptive mean filter'] = {}\n",
        "average_psnr['adaptive mean filter'] = {}"
      ],
      "metadata": {
        "id": "_oxk3muFJR6b"
      },
      "execution_count": 68,
      "outputs": []
    },
    {
      "cell_type": "code",
      "source": [
        "Computational_times['adaptive mean filter']['salt and pepper'] = []\n",
        "average_MSE['adaptive mean filter']['salt and pepper'] = []\n",
        "average_psnr['adaptive mean filter']['salt and pepper'] = []"
      ],
      "metadata": {
        "id": "3rbAerymJZBb"
      },
      "execution_count": 69,
      "outputs": []
    },
    {
      "cell_type": "code",
      "source": [
        "start_time = time.time()\n",
        "\n",
        "filtered_data = []\n",
        "\n",
        "for index, row in salty.iterrows():\n",
        "    filtered_img = adaptive_mean_filter(row['image'], kernel_size=5,max_kernel_size=7)\n",
        "\n",
        "    filtered_data.append({\n",
        "        'filename': f\"{row['filename']}_filtered\",\n",
        "        'image': filtered_img,\n",
        "    })\n",
        "\n",
        "end_time = time.time()\n",
        "\n",
        "total_time = end_time - start_time\n",
        "Computational_times['adaptive mean filter']['salt and pepper'].append(total_time)\n",
        "\n",
        "filtered_images = pd.DataFrame(filtered_data)"
      ],
      "metadata": {
        "id": "DzR8BCn5KN3W"
      },
      "execution_count": 87,
      "outputs": []
    },
    {
      "cell_type": "code",
      "source": [
        "counter = 0\n",
        "mse_sum = 0\n",
        "psnr_sum = 0\n",
        "\n",
        "for index, row in original.iterrows():\n",
        "    original_img = row['image']\n",
        "\n",
        "    filtered_img_rows = filtered_images[filtered_images['filename'].str.contains(row['filename'])]\n",
        "\n",
        "    for _, filtered_row in filtered_img_rows.iterrows():\n",
        "        filtered_img = filtered_row['image']\n",
        "\n",
        "        mse = calculate_mse(original_img, filtered_img)\n",
        "        mse_sum += mse\n",
        "        psnr = calculate_psnr(mse)\n",
        "        psnr_sum += psnr\n",
        "\n",
        "        counter +=1\n",
        "\n",
        "avrg_mse = mse_sum/counter\n",
        "average_MSE['adaptive mean filter']['salt and pepper'].append(avrg_mse)\n",
        "print(f\"avarage mse = {avrg_mse}\")\n",
        "\n",
        "avrg_psnr = psnr_sum/counter\n",
        "average_psnr['adaptive mean filter']['salt and pepper'].append(avrg_psnr)\n",
        "print(f\"avarage psnr = {avrg_psnr}\")"
      ],
      "metadata": {
        "colab": {
          "base_uri": "https://localhost:8080/"
        },
        "id": "iCHvRkWqKbVl",
        "outputId": "83dc6eb7-9894-4d39-ebad-e0355ad28606"
      },
      "execution_count": 88,
      "outputs": [
        {
          "output_type": "stream",
          "name": "stdout",
          "text": [
            "avarage mse = 9.17055448428608\n",
            "avarage psnr = 40.902870272395475\n"
          ]
        }
      ]
    },
    {
      "cell_type": "code",
      "source": [
        "start_time = time.time()\n",
        "\n",
        "filtered_data = []\n",
        "\n",
        "for index, row in salty.iterrows():\n",
        "    filtered_img = adaptive_mean_filter(row['image'], kernel_size=11,max_kernel_size=15)\n",
        "\n",
        "    filtered_data.append({\n",
        "        'filename': f\"{row['filename']}_filtered\",\n",
        "        'image': filtered_img,\n",
        "    })\n",
        "\n",
        "end_time = time.time()\n",
        "\n",
        "total_time = end_time - start_time\n",
        "Computational_times['adaptive mean filter']['salt and pepper'].append(total_time)\n",
        "\n",
        "filtered_images = pd.DataFrame(filtered_data)"
      ],
      "metadata": {
        "id": "zyONEZVyKkVb"
      },
      "execution_count": 89,
      "outputs": []
    },
    {
      "cell_type": "code",
      "source": [
        "counter = 0\n",
        "mse_sum = 0\n",
        "psnr_sum = 0\n",
        "\n",
        "for index, row in original.iterrows():\n",
        "    original_img = row['image']\n",
        "\n",
        "    filtered_img_rows = filtered_images[filtered_images['filename'].str.contains(row['filename'])]\n",
        "\n",
        "    for _, filtered_row in filtered_img_rows.iterrows():\n",
        "        filtered_img = filtered_row['image']\n",
        "\n",
        "        mse = calculate_mse(original_img, filtered_img)\n",
        "        mse_sum += mse\n",
        "        psnr = calculate_psnr(mse)\n",
        "        psnr_sum += psnr\n",
        "\n",
        "        counter +=1\n",
        "\n",
        "avrg_mse = mse_sum/counter\n",
        "average_MSE['adaptive mean filter']['salt and pepper'].append(avrg_mse)\n",
        "print(f\"avarage mse = {avrg_mse}\")\n",
        "\n",
        "avrg_psnr = psnr_sum/counter\n",
        "average_psnr['adaptive mean filter']['salt and pepper'].append(avrg_psnr)\n",
        "print(f\"avarage psnr = {avrg_psnr}\")"
      ],
      "metadata": {
        "colab": {
          "base_uri": "https://localhost:8080/"
        },
        "id": "dy7oN2XFKopz",
        "outputId": "a274f6c9-be7a-4461-ffba-f51a0366e486"
      },
      "execution_count": 90,
      "outputs": [
        {
          "output_type": "stream",
          "name": "stdout",
          "text": [
            "avarage mse = 12.488213560014303\n",
            "avarage psnr = 38.7766163983522\n"
          ]
        }
      ]
    },
    {
      "cell_type": "code",
      "source": [
        "Computational_times['adaptive mean filter']['gaussian'] = []\n",
        "average_MSE['adaptive mean filter']['gaussian'] = []\n",
        "average_psnr['adaptive mean filter']['gaussian'] = []"
      ],
      "metadata": {
        "id": "2mE0hh4UKstu"
      },
      "execution_count": 91,
      "outputs": []
    },
    {
      "cell_type": "code",
      "source": [
        "start_time = time.time()\n",
        "\n",
        "filtered_data = []\n",
        "\n",
        "for index, row in gaussian_noise.iterrows():\n",
        "    filtered_img = adaptive_mean_filter(row['image'], kernel_size=5,max_kernel_size=7)\n",
        "\n",
        "    filtered_data.append({\n",
        "        'filename': f\"{row['filename']}_filtered\",\n",
        "        'image': filtered_img,\n",
        "    })\n",
        "\n",
        "end_time = time.time()\n",
        "\n",
        "total_time = end_time - start_time\n",
        "Computational_times['adaptive mean filter']['gaussian'].append(total_time)\n",
        "\n",
        "filtered_images = pd.DataFrame(filtered_data)"
      ],
      "metadata": {
        "id": "2BVmS3hrKx1J"
      },
      "execution_count": 92,
      "outputs": []
    },
    {
      "cell_type": "code",
      "source": [
        "counter = 0\n",
        "mse_sum = 0\n",
        "psnr_sum = 0\n",
        "\n",
        "for index, row in original.iterrows():\n",
        "    original_img = row['image']\n",
        "\n",
        "    filtered_img_rows = filtered_images[filtered_images['filename'].str.contains(row['filename'])]\n",
        "\n",
        "    for _, filtered_row in filtered_img_rows.iterrows():\n",
        "        filtered_img = filtered_row['image']\n",
        "\n",
        "        mse = calculate_mse(original_img, filtered_img)\n",
        "        mse_sum += mse\n",
        "        psnr = calculate_psnr(mse)\n",
        "        psnr_sum += psnr\n",
        "\n",
        "        counter +=1\n",
        "\n",
        "avrg_mse = mse_sum/counter\n",
        "average_MSE['adaptive mean filter']['gaussian'].append(avrg_mse)\n",
        "print(f\"avarage mse = {avrg_mse}\")\n",
        "\n",
        "avrg_psnr = psnr_sum/counter\n",
        "average_psnr['adaptive mean filter']['gaussian'].append(avrg_psnr)\n",
        "print(f\"avarage psnr = {avrg_psnr}\")"
      ],
      "metadata": {
        "colab": {
          "base_uri": "https://localhost:8080/"
        },
        "id": "eekFV9ugK5M0",
        "outputId": "13fe2fe1-eb55-4095-8f21-c9acc43b8fe3"
      },
      "execution_count": 93,
      "outputs": [
        {
          "output_type": "stream",
          "name": "stdout",
          "text": [
            "avarage mse = 87.73511403872736\n",
            "avarage psnr = 28.923841415325587\n"
          ]
        }
      ]
    },
    {
      "cell_type": "code",
      "source": [
        "start_time = time.time()\n",
        "\n",
        "filtered_data = []\n",
        "\n",
        "for index, row in gaussian_noise.iterrows():\n",
        "    filtered_img = adaptive_mean_filter(row['image'], kernel_size=11,max_kernel_size=15)\n",
        "\n",
        "    filtered_data.append({\n",
        "        'filename': f\"{row['filename']}_filtered\",\n",
        "        'image': filtered_img,\n",
        "    })\n",
        "\n",
        "end_time = time.time()\n",
        "\n",
        "total_time = end_time - start_time\n",
        "Computational_times['adaptive mean filter']['gaussian'].append(total_time)\n",
        "\n",
        "filtered_images = pd.DataFrame(filtered_data)"
      ],
      "metadata": {
        "id": "Stv5AgBOLCRq"
      },
      "execution_count": 94,
      "outputs": []
    },
    {
      "cell_type": "code",
      "source": [
        "counter = 0\n",
        "mse_sum = 0\n",
        "psnr_sum = 0\n",
        "\n",
        "for index, row in original.iterrows():\n",
        "    original_img = row['image']\n",
        "\n",
        "    filtered_img_rows = filtered_images[filtered_images['filename'].str.contains(row['filename'])]\n",
        "\n",
        "    for _, filtered_row in filtered_img_rows.iterrows():\n",
        "        filtered_img = filtered_row['image']\n",
        "\n",
        "        mse = calculate_mse(original_img, filtered_img)\n",
        "        mse_sum += mse\n",
        "        psnr = calculate_psnr(mse)\n",
        "        psnr_sum += psnr\n",
        "\n",
        "        counter +=1\n",
        "\n",
        "avrg_mse = mse_sum/counter\n",
        "average_MSE['adaptive mean filter']['gaussian'].append(avrg_mse)\n",
        "print(f\"avarage mse = {avrg_mse}\")\n",
        "\n",
        "avrg_psnr = psnr_sum/counter\n",
        "average_psnr['adaptive mean filter']['gaussian'].append(avrg_psnr)\n",
        "print(f\"avarage psnr = {avrg_psnr}\")"
      ],
      "metadata": {
        "colab": {
          "base_uri": "https://localhost:8080/"
        },
        "id": "wEzcG6xXLGJ7",
        "outputId": "403a4e91-ebf6-491a-d8dc-05736666fb4f"
      },
      "execution_count": 95,
      "outputs": [
        {
          "output_type": "stream",
          "name": "stdout",
          "text": [
            "avarage mse = 87.84107266283833\n",
            "avarage psnr = 28.91547936162378\n"
          ]
        }
      ]
    },
    {
      "cell_type": "code",
      "source": [
        "print(Computational_times)\n",
        "print(average_MSE)\n",
        "print(average_psnr)"
      ],
      "metadata": {
        "colab": {
          "base_uri": "https://localhost:8080/"
        },
        "id": "7Jw4AfZxLJmC",
        "outputId": "c9777bfd-e309-45df-adb2-068e9fa5b130"
      },
      "execution_count": 96,
      "outputs": [
        {
          "output_type": "stream",
          "name": "stdout",
          "text": [
            "{'box filter': {'salt and pepper': [0.01754903793334961, 0.010097980499267578], 'gaussian': [0.008693218231201172, 0.008643150329589844]}, 'Gaussian filter': {'salt and pepper': [0.026183128356933594, 0.022742271423339844], 'gaussian': [0.014070272445678711, 0.013068437576293945]}, 'median filter': {'salt and pepper': [0.032800912857055664, 0.16362214088439941], 'gaussian': [0.032048702239990234, 0.37059974670410156]}, 'adaptive mean filter': {'salt and pepper': [1.0191903114318848, 3.2312936782836914], 'gaussian': [0.9807760715484619, 4.07667875289917]}}\n",
            "{'box filter': {'salt and pepper': [79.27544544603639, 86.54360995378096], 'gaussian': [92.44091176529274, 92.70677240030038]}, 'Gaussian filter': {'salt and pepper': [68.55629655716312, 68.9694820107575], 'gaussian': [93.16125932199738, 93.13898616725429]}, 'median filter': {'salt and pepper': [25.39650320913456, 33.53542185231457], 'gaussian': [92.23035709915735, 91.16955419857914]}, 'adaptive mean filter': {'salt and pepper': [9.17055448428608, 12.488213560014303], 'gaussian': [87.73511403872736, 87.84107266283833]}}\n",
            "{'box filter': {'salt and pepper': [29.513939176505275, 29.039323335260278], 'gaussian': [28.69155170085817, 28.60349364580841]}, 'Gaussian filter': {'salt and pepper': [30.27564963465619, 30.253101163014794], 'gaussian': [28.665735471794612, 28.666914987229323]}, 'median filter': {'salt and pepper': [34.34935925105379, 33.22502811713373], 'gaussian': [28.723927539577105, 28.75128031263897]}, 'adaptive mean filter': {'salt and pepper': [40.902870272395475, 38.7766163983522], 'gaussian': [28.923841415325587, 28.91547936162378]}}\n"
          ]
        }
      ]
    },
    {
      "cell_type": "markdown",
      "source": [
        "# Adaptive median filter:"
      ],
      "metadata": {
        "id": "Ge_BmnmILMDA"
      }
    },
    {
      "cell_type": "code",
      "source": [
        "def adaptive_median_filter(img, kernel_size, max_kernel_size=7):\n",
        "    filtered_img = np.copy(img)\n",
        "\n",
        "    for cur_size in range(kernel_size, max_kernel_size + 1, 2):\n",
        "        local_region = median_filter(img[:, :], size=cur_size, mode='reflect')\n",
        "\n",
        "        z_min = np.min(local_region)\n",
        "        z_max = np.max(local_region)\n",
        "        z_med = np.median(local_region)\n",
        "\n",
        "        if z_min < z_med < z_max:\n",
        "            filtered_img[:, :] = np.where(\n",
        "                (img[:, :] < z_min) | (img[:, :] > z_max), z_med, img[:, :]\n",
        "            )\n",
        "            break\n",
        "        else:\n",
        "            continue\n",
        "    else:\n",
        "        filtered_img[:, :] = z_med\n",
        "\n",
        "    return filtered_img\n"
      ],
      "metadata": {
        "id": "lshZYjvWLSLK"
      },
      "execution_count": 97,
      "outputs": []
    },
    {
      "cell_type": "code",
      "source": [
        "Computational_times['adaptive median filter'] = {}\n",
        "average_MSE['adaptive median filter'] = {}\n",
        "average_psnr['adaptive median filter'] = {}"
      ],
      "metadata": {
        "id": "HZQ_Ho4JLVO3"
      },
      "execution_count": 98,
      "outputs": []
    },
    {
      "cell_type": "code",
      "source": [
        "Computational_times['adaptive median filter']['salt and pepper'] = []\n",
        "average_MSE['adaptive median filter']['salt and pepper'] = []\n",
        "average_psnr['adaptive median filter']['salt and pepper'] = []"
      ],
      "metadata": {
        "id": "ECgKQUxLLb1W"
      },
      "execution_count": 99,
      "outputs": []
    },
    {
      "cell_type": "code",
      "source": [
        "start_time = time.time()\n",
        "\n",
        "filtered_data = []\n",
        "\n",
        "for index, row in salty.iterrows():\n",
        "    filtered_img = adaptive_median_filter(row['image'], kernel_size=5,max_kernel_size=7)\n",
        "\n",
        "    filtered_data.append({\n",
        "        'filename': f\"{row['filename']}_filtered\",\n",
        "        'image': filtered_img,\n",
        "    })\n",
        "\n",
        "end_time = time.time()\n",
        "\n",
        "total_time = end_time - start_time\n",
        "Computational_times['adaptive median filter']['salt and pepper'].append(total_time)\n",
        "\n",
        "filtered_images = pd.DataFrame(filtered_data)"
      ],
      "metadata": {
        "id": "YfLXAXgYLhBA"
      },
      "execution_count": 100,
      "outputs": []
    },
    {
      "cell_type": "code",
      "source": [
        "counter = 0\n",
        "mse_sum = 0\n",
        "psnr_sum = 0\n",
        "\n",
        "for index, row in original.iterrows():\n",
        "    original_img = row['image']\n",
        "\n",
        "    filtered_img_rows = filtered_images[filtered_images['filename'].str.contains(row['filename'])]\n",
        "\n",
        "    for _, filtered_row in filtered_img_rows.iterrows():\n",
        "        filtered_img = filtered_row['image']\n",
        "\n",
        "        mse = calculate_mse(original_img, filtered_img)\n",
        "        mse_sum += mse\n",
        "        psnr = calculate_psnr(mse)\n",
        "        psnr_sum += psnr\n",
        "\n",
        "        counter +=1\n",
        "\n",
        "avrg_mse = mse_sum/counter\n",
        "average_MSE['adaptive median filter']['salt and pepper'].append(avrg_mse)\n",
        "print(f\"avarage mse = {avrg_mse}\")\n",
        "\n",
        "avrg_psnr = psnr_sum/counter\n",
        "average_psnr['adaptive median filter']['salt and pepper'].append(avrg_psnr)\n",
        "print(f\"avarage psnr = {avrg_psnr}\")"
      ],
      "metadata": {
        "colab": {
          "base_uri": "https://localhost:8080/"
        },
        "id": "WRqDxbhcLtBT",
        "outputId": "5cb41cb7-8dde-4f96-d035-bda9bc1575a3"
      },
      "execution_count": 101,
      "outputs": [
        {
          "output_type": "stream",
          "name": "stdout",
          "text": [
            "avarage mse = 7.64350729088989\n",
            "avarage psnr = 41.828651822227684\n"
          ]
        }
      ]
    },
    {
      "cell_type": "code",
      "source": [
        "start_time = time.time()\n",
        "\n",
        "filtered_data = []\n",
        "\n",
        "for index, row in salty.iterrows():\n",
        "    filtered_img = adaptive_median_filter(row['image'], kernel_size=11,max_kernel_size=15)\n",
        "\n",
        "    filtered_data.append({\n",
        "        'filename': f\"{row['filename']}_filtered\",\n",
        "        'image': filtered_img,\n",
        "    })\n",
        "\n",
        "end_time = time.time()\n",
        "\n",
        "total_time = end_time - start_time\n",
        "Computational_times['adaptive median filter']['salt and pepper'].append(total_time)\n",
        "\n",
        "filtered_images = pd.DataFrame(filtered_data)"
      ],
      "metadata": {
        "id": "KJVLMV3SLytV"
      },
      "execution_count": 102,
      "outputs": []
    },
    {
      "cell_type": "code",
      "source": [
        "counter = 0\n",
        "mse_sum = 0\n",
        "psnr_sum = 0\n",
        "\n",
        "for index, row in original.iterrows():\n",
        "    original_img = row['image']\n",
        "\n",
        "    filtered_img_rows = filtered_images[filtered_images['filename'].str.contains(row['filename'])]\n",
        "\n",
        "    for _, filtered_row in filtered_img_rows.iterrows():\n",
        "        filtered_img = filtered_row['image']\n",
        "\n",
        "        mse = calculate_mse(original_img, filtered_img)\n",
        "        mse_sum += mse\n",
        "        psnr = calculate_psnr(mse)\n",
        "        psnr_sum += psnr\n",
        "\n",
        "        counter +=1\n",
        "\n",
        "avrg_mse = mse_sum/counter\n",
        "average_MSE['adaptive median filter']['salt and pepper'].append(avrg_mse)\n",
        "print(f\"avarage mse = {avrg_mse}\")\n",
        "\n",
        "avrg_psnr = psnr_sum/counter\n",
        "average_psnr['adaptive median filter']['salt and pepper'].append(avrg_psnr)\n",
        "print(f\"avarage psnr = {avrg_psnr}\")"
      ],
      "metadata": {
        "colab": {
          "base_uri": "https://localhost:8080/"
        },
        "id": "EQ6ag5MJL2YI",
        "outputId": "329e9c7b-ffc2-49e0-aa12-61c006469f42"
      },
      "execution_count": 103,
      "outputs": [
        {
          "output_type": "stream",
          "name": "stdout",
          "text": [
            "avarage mse = 8.625226519968642\n",
            "avarage psnr = 40.18786271577876\n"
          ]
        }
      ]
    },
    {
      "cell_type": "code",
      "source": [
        "Computational_times['adaptive median filter']['gaussian'] = []\n",
        "average_MSE['adaptive median filter']['gaussian'] = []\n",
        "average_psnr['adaptive median filter']['gaussian'] = []"
      ],
      "metadata": {
        "id": "-SmfNveYL5A7"
      },
      "execution_count": 104,
      "outputs": []
    },
    {
      "cell_type": "code",
      "source": [
        "start_time = time.time()\n",
        "\n",
        "filtered_data = []\n",
        "\n",
        "for index, row in gaussian_noise.iterrows():\n",
        "    filtered_img = adaptive_median_filter(row['image'], kernel_size=5,max_kernel_size=7)\n",
        "\n",
        "    filtered_data.append({\n",
        "        'filename': f\"{row['filename']}_filtered\",\n",
        "        'image': filtered_img,\n",
        "    })\n",
        "\n",
        "end_time = time.time()\n",
        "\n",
        "total_time = end_time - start_time\n",
        "Computational_times['adaptive median filter']['gaussian'].append(total_time)\n",
        "\n",
        "filtered_images = pd.DataFrame(filtered_data)"
      ],
      "metadata": {
        "id": "1F1856TfL_bi"
      },
      "execution_count": 105,
      "outputs": []
    },
    {
      "cell_type": "code",
      "source": [
        "counter = 0\n",
        "mse_sum = 0\n",
        "psnr_sum = 0\n",
        "\n",
        "for index, row in original.iterrows():\n",
        "    original_img = row['image']\n",
        "\n",
        "    filtered_img_rows = filtered_images[filtered_images['filename'].str.contains(row['filename'])]\n",
        "\n",
        "    for _, filtered_row in filtered_img_rows.iterrows():\n",
        "        filtered_img = filtered_row['image']\n",
        "\n",
        "        mse = calculate_mse(original_img, filtered_img)\n",
        "        mse_sum += mse\n",
        "        psnr = calculate_psnr(mse)\n",
        "        psnr_sum += psnr\n",
        "\n",
        "        counter +=1\n",
        "\n",
        "avrg_mse = mse_sum/counter\n",
        "average_MSE['adaptive median filter']['gaussian'].append(avrg_mse)\n",
        "print(f\"avarage mse = {avrg_mse}\")\n",
        "\n",
        "avrg_psnr = psnr_sum/counter\n",
        "average_psnr['adaptive median filter']['gaussian'].append(avrg_psnr)\n",
        "print(f\"avarage psnr = {avrg_psnr}\")"
      ],
      "metadata": {
        "colab": {
          "base_uri": "https://localhost:8080/"
        },
        "id": "NH_7mXCSMG0z",
        "outputId": "c651fe2e-6399-4f50-e31a-b7902b643060"
      },
      "execution_count": 106,
      "outputs": [
        {
          "output_type": "stream",
          "name": "stdout",
          "text": [
            "avarage mse = 87.45690669052698\n",
            "avarage psnr = 28.947588622118346\n"
          ]
        }
      ]
    },
    {
      "cell_type": "code",
      "source": [
        "start_time = time.time()\n",
        "\n",
        "filtered_data = []\n",
        "\n",
        "for index, row in gaussian_noise.iterrows():\n",
        "    filtered_img = adaptive_median_filter(row['image'], kernel_size=11,max_kernel_size=15)\n",
        "\n",
        "    filtered_data.append({\n",
        "        'filename': f\"{row['filename']}_filtered\",\n",
        "        'image': filtered_img,\n",
        "    })\n",
        "\n",
        "end_time = time.time()\n",
        "\n",
        "total_time = end_time - start_time\n",
        "Computational_times['adaptive median filter']['gaussian'].append(total_time)\n",
        "\n",
        "filtered_images = pd.DataFrame(filtered_data)"
      ],
      "metadata": {
        "id": "NlNaXbV2MMmR"
      },
      "execution_count": 107,
      "outputs": []
    },
    {
      "cell_type": "code",
      "source": [
        "counter = 0\n",
        "mse_sum = 0\n",
        "psnr_sum = 0\n",
        "\n",
        "for index, row in original.iterrows():\n",
        "    original_img = row['image']\n",
        "\n",
        "    filtered_img_rows = filtered_images[filtered_images['filename'].str.contains(row['filename'])]\n",
        "\n",
        "    for _, filtered_row in filtered_img_rows.iterrows():\n",
        "        filtered_img = filtered_row['image']\n",
        "\n",
        "        mse = calculate_mse(original_img, filtered_img)\n",
        "        mse_sum += mse\n",
        "        psnr = calculate_psnr(mse)\n",
        "        psnr_sum += psnr\n",
        "\n",
        "        counter +=1\n",
        "\n",
        "avrg_mse = mse_sum/counter\n",
        "average_MSE['adaptive median filter']['gaussian'].append(avrg_mse)\n",
        "print(f\"avarage mse = {avrg_mse}\")\n",
        "\n",
        "avrg_psnr = psnr_sum/counter\n",
        "average_psnr['adaptive median filter']['gaussian'].append(avrg_psnr)\n",
        "print(f\"avarage psnr = {avrg_psnr}\")"
      ],
      "metadata": {
        "colab": {
          "base_uri": "https://localhost:8080/"
        },
        "id": "DIgrXirEMRyY",
        "outputId": "02dcb3a8-b4fc-43ff-fa3a-7f72e4cbe2f0"
      },
      "execution_count": 108,
      "outputs": [
        {
          "output_type": "stream",
          "name": "stdout",
          "text": [
            "avarage mse = 87.49970844155779\n",
            "avarage psnr = 28.945760010268934\n"
          ]
        }
      ]
    },
    {
      "cell_type": "code",
      "source": [
        "print(Computational_times)\n",
        "print(average_MSE)\n",
        "print(average_psnr)"
      ],
      "metadata": {
        "colab": {
          "base_uri": "https://localhost:8080/"
        },
        "id": "YopLdSGhMVJi",
        "outputId": "eec7e05d-52da-423a-df84-90e786678479"
      },
      "execution_count": 109,
      "outputs": [
        {
          "output_type": "stream",
          "name": "stdout",
          "text": [
            "{'box filter': {'salt and pepper': [0.01754903793334961, 0.010097980499267578], 'gaussian': [0.008693218231201172, 0.008643150329589844]}, 'Gaussian filter': {'salt and pepper': [0.026183128356933594, 0.022742271423339844], 'gaussian': [0.014070272445678711, 0.013068437576293945]}, 'median filter': {'salt and pepper': [0.032800912857055664, 0.16362214088439941], 'gaussian': [0.032048702239990234, 0.37059974670410156]}, 'adaptive mean filter': {'salt and pepper': [1.0191903114318848, 3.2312936782836914], 'gaussian': [0.9807760715484619, 4.07667875289917]}, 'adaptive median filter': {'salt and pepper': [0.860196590423584, 3.7864882946014404], 'gaussian': [0.9615793228149414, 4.6729066371917725]}}\n",
            "{'box filter': {'salt and pepper': [79.27544544603639, 86.54360995378096], 'gaussian': [92.44091176529274, 92.70677240030038]}, 'Gaussian filter': {'salt and pepper': [68.55629655716312, 68.9694820107575], 'gaussian': [93.16125932199738, 93.13898616725429]}, 'median filter': {'salt and pepper': [25.39650320913456, 33.53542185231457], 'gaussian': [92.23035709915735, 91.16955419857914]}, 'adaptive mean filter': {'salt and pepper': [9.17055448428608, 12.488213560014303], 'gaussian': [87.73511403872736, 87.84107266283833]}, 'adaptive median filter': {'salt and pepper': [7.64350729088989, 8.625226519968642], 'gaussian': [87.45690669052698, 87.49970844155779]}}\n",
            "{'box filter': {'salt and pepper': [29.513939176505275, 29.039323335260278], 'gaussian': [28.69155170085817, 28.60349364580841]}, 'Gaussian filter': {'salt and pepper': [30.27564963465619, 30.253101163014794], 'gaussian': [28.665735471794612, 28.666914987229323]}, 'median filter': {'salt and pepper': [34.34935925105379, 33.22502811713373], 'gaussian': [28.723927539577105, 28.75128031263897]}, 'adaptive mean filter': {'salt and pepper': [40.902870272395475, 38.7766163983522], 'gaussian': [28.923841415325587, 28.91547936162378]}, 'adaptive median filter': {'salt and pepper': [41.828651822227684, 40.18786271577876], 'gaussian': [28.947588622118346, 28.945760010268934]}}\n"
          ]
        }
      ]
    },
    {
      "cell_type": "markdown",
      "source": [
        "# Bilateral filter:"
      ],
      "metadata": {
        "id": "BZmNf2RNMabv"
      }
    },
    {
      "cell_type": "code",
      "source": [
        "Computational_times['bilateral filter'] = {}\n",
        "average_MSE['bilateral filter'] = {}\n",
        "average_psnr['bilateral filter'] = {}"
      ],
      "metadata": {
        "id": "rTIVKe1-MqAT"
      },
      "execution_count": 110,
      "outputs": []
    },
    {
      "cell_type": "code",
      "source": [
        "Computational_times['bilateral filter']['salt and pepper'] = []\n",
        "average_MSE['bilateral filter']['salt and pepper'] = []\n",
        "average_psnr['bilateral filter']['salt and pepper'] = []"
      ],
      "metadata": {
        "id": "7QN76g58Mzqz"
      },
      "execution_count": 112,
      "outputs": []
    },
    {
      "cell_type": "code",
      "source": [
        "def apply_Bilateral_filter(image,scale=1, kernel_size=5,sigma_space=100, sigma_color=100):\n",
        "  height,width = image.shape\n",
        "  scaled_height = int(height*scale)\n",
        "  scaled_width = int(width*scale)\n",
        "\n",
        "  rescaled_image = cv2.resize(image,(scaled_width,scaled_height))\n",
        "\n",
        "  filtered_image = cv2.bilateralFilter(rescaled_image,kernel_size,sigma_color,sigma_space)\n",
        "\n",
        "  filtered_image = cv2.resize(filtered_image,(width,height,))\n",
        "\n",
        "  return filtered_image"
      ],
      "metadata": {
        "id": "H7eAau3CM-Fc"
      },
      "execution_count": 115,
      "outputs": []
    },
    {
      "cell_type": "code",
      "source": [
        "start_time = time.time()\n",
        "\n",
        "filtered_data = []\n",
        "\n",
        "for index, row in salty.iterrows():\n",
        "    filtered_img = apply_Bilateral_filter(row['image'], kernel_size=5)\n",
        "\n",
        "    filtered_data.append({\n",
        "        'filename': f\"{row['filename']}_filtered\",\n",
        "        'image': filtered_img,\n",
        "    })\n",
        "\n",
        "end_time = time.time()\n",
        "\n",
        "total_time = end_time - start_time\n",
        "Computational_times['bilateral filter']['salt and pepper'].append(total_time)\n",
        "\n",
        "filtered_images = pd.DataFrame(filtered_data)"
      ],
      "metadata": {
        "id": "V2AgTokuNCMW"
      },
      "execution_count": 116,
      "outputs": []
    },
    {
      "cell_type": "code",
      "source": [
        "counter = 0\n",
        "mse_sum = 0\n",
        "psnr_sum = 0\n",
        "\n",
        "for index, row in original.iterrows():\n",
        "    original_img = row['image']\n",
        "\n",
        "    filtered_img_rows = filtered_images[filtered_images['filename'].str.contains(row['filename'])]\n",
        "\n",
        "    for _, filtered_row in filtered_img_rows.iterrows():\n",
        "        filtered_img = filtered_row['image']\n",
        "\n",
        "        mse = calculate_mse(original_img, filtered_img)\n",
        "        mse_sum += mse\n",
        "        psnr = calculate_psnr(mse)\n",
        "        psnr_sum += psnr\n",
        "\n",
        "        counter +=1\n",
        "\n",
        "avrg_mse = mse_sum/counter\n",
        "average_MSE['bilateral filter']['salt and pepper'].append(avrg_mse)\n",
        "print(f\"avarage mse = {avrg_mse}\")\n",
        "\n",
        "avrg_psnr = psnr_sum/counter\n",
        "average_psnr['bilateral filter']['salt and pepper'].append(avrg_psnr)\n",
        "print(f\"avarage psnr = {avrg_psnr}\")"
      ],
      "metadata": {
        "colab": {
          "base_uri": "https://localhost:8080/"
        },
        "id": "TJYFtjlvNZwS",
        "outputId": "c00ea656-7844-438e-977c-67cea0a7f6b0"
      },
      "execution_count": 117,
      "outputs": [
        {
          "output_type": "stream",
          "name": "stdout",
          "text": [
            "avarage mse = 46.91489094559646\n",
            "avarage psnr = 31.835928516397797\n"
          ]
        }
      ]
    },
    {
      "cell_type": "code",
      "source": [
        "start_time = time.time()\n",
        "\n",
        "filtered_data = []\n",
        "\n",
        "for index, row in salty.iterrows():\n",
        "    filtered_img = apply_Bilateral_filter(row['image'], kernel_size=11)\n",
        "\n",
        "    filtered_data.append({\n",
        "        'filename': f\"{row['filename']}_filtered\",\n",
        "        'image': filtered_img,\n",
        "    })\n",
        "\n",
        "end_time = time.time()\n",
        "\n",
        "total_time = end_time - start_time\n",
        "Computational_times['bilateral filter']['salt and pepper'].append(total_time)\n",
        "\n",
        "filtered_images = pd.DataFrame(filtered_data)"
      ],
      "metadata": {
        "id": "0yVkXCe4NgzX"
      },
      "execution_count": 118,
      "outputs": []
    },
    {
      "cell_type": "code",
      "source": [
        "counter = 0\n",
        "mse_sum = 0\n",
        "psnr_sum = 0\n",
        "\n",
        "for index, row in original.iterrows():\n",
        "    original_img = row['image']\n",
        "\n",
        "    filtered_img_rows = filtered_images[filtered_images['filename'].str.contains(row['filename'])]\n",
        "\n",
        "    for _, filtered_row in filtered_img_rows.iterrows():\n",
        "        filtered_img = filtered_row['image']\n",
        "\n",
        "        mse = calculate_mse(original_img, filtered_img)\n",
        "        mse_sum += mse\n",
        "        psnr = calculate_psnr(mse)\n",
        "        psnr_sum += psnr\n",
        "\n",
        "        counter +=1\n",
        "\n",
        "avrg_mse = mse_sum/counter\n",
        "average_MSE['bilateral filter']['salt and pepper'].append(avrg_mse)\n",
        "print(f\"avarage mse = {avrg_mse}\")\n",
        "\n",
        "avrg_psnr = psnr_sum/counter\n",
        "average_psnr['bilateral filter']['salt and pepper'].append(avrg_psnr)\n",
        "print(f\"avarage psnr = {avrg_psnr}\")"
      ],
      "metadata": {
        "colab": {
          "base_uri": "https://localhost:8080/"
        },
        "id": "p2ryjQtENkS7",
        "outputId": "6694aac7-36c9-45c1-ef01-a1e499f89ed5"
      },
      "execution_count": 119,
      "outputs": [
        {
          "output_type": "stream",
          "name": "stdout",
          "text": [
            "avarage mse = 54.977402183792094\n",
            "avarage psnr = 31.021815165896484\n"
          ]
        }
      ]
    },
    {
      "cell_type": "code",
      "source": [
        "Computational_times['bilateral filter']['gaussian'] = []\n",
        "average_MSE['bilateral filter']['gaussian'] = []\n",
        "average_psnr['bilateral filter']['gaussian'] = []"
      ],
      "metadata": {
        "id": "bmfvcEblNnwg"
      },
      "execution_count": 120,
      "outputs": []
    },
    {
      "cell_type": "code",
      "source": [
        "start_time = time.time()\n",
        "\n",
        "filtered_data = []\n",
        "\n",
        "for index, row in gaussian_noise.iterrows():\n",
        "    filtered_img = apply_Bilateral_filter(row['image'], kernel_size=5)\n",
        "\n",
        "    filtered_data.append({\n",
        "        'filename': f\"{row['filename']}_filtered\",\n",
        "        'image': filtered_img,\n",
        "    })\n",
        "\n",
        "end_time = time.time()\n",
        "\n",
        "total_time = end_time - start_time\n",
        "Computational_times['bilateral filter']['gaussian'].append(total_time)\n",
        "\n",
        "filtered_images = pd.DataFrame(filtered_data)"
      ],
      "metadata": {
        "id": "YkmAi9h0Nw06"
      },
      "execution_count": 121,
      "outputs": []
    },
    {
      "cell_type": "code",
      "source": [
        "counter = 0\n",
        "mse_sum = 0\n",
        "psnr_sum = 0\n",
        "\n",
        "for index, row in original.iterrows():\n",
        "    original_img = row['image']\n",
        "\n",
        "    filtered_img_rows = filtered_images[filtered_images['filename'].str.contains(row['filename'])]\n",
        "\n",
        "    for _, filtered_row in filtered_img_rows.iterrows():\n",
        "        filtered_img = filtered_row['image']\n",
        "\n",
        "        mse = calculate_mse(original_img, filtered_img)\n",
        "        mse_sum += mse\n",
        "        psnr = calculate_psnr(mse)\n",
        "        psnr_sum += psnr\n",
        "\n",
        "        counter +=1\n",
        "\n",
        "avrg_mse = mse_sum/counter\n",
        "average_MSE['bilateral filter']['gaussian'].append(avrg_mse)\n",
        "print(f\"avarage mse = {avrg_mse}\")\n",
        "\n",
        "avrg_psnr = psnr_sum/counter\n",
        "average_psnr['bilateral filter']['gaussian'].append(avrg_psnr)\n",
        "print(f\"avarage psnr = {avrg_psnr}\")"
      ],
      "metadata": {
        "colab": {
          "base_uri": "https://localhost:8080/"
        },
        "id": "YIQuSMGtOop5",
        "outputId": "a32fd8d5-d2e7-4d66-aee1-e6162030d146"
      },
      "execution_count": 122,
      "outputs": [
        {
          "output_type": "stream",
          "name": "stdout",
          "text": [
            "avarage mse = 91.80272776110009\n",
            "avarage psnr = 28.749776110453904\n"
          ]
        }
      ]
    },
    {
      "cell_type": "code",
      "source": [
        "start_time = time.time()\n",
        "\n",
        "filtered_data = []\n",
        "\n",
        "for index, row in gaussian_noise.iterrows():\n",
        "    filtered_img = apply_Bilateral_filter(row['image'], kernel_size=11)\n",
        "\n",
        "    filtered_data.append({\n",
        "        'filename': f\"{row['filename']}_filtered\",\n",
        "        'image': filtered_img,\n",
        "    })\n",
        "\n",
        "end_time = time.time()\n",
        "\n",
        "total_time = end_time - start_time\n",
        "Computational_times['bilateral filter']['gaussian'].append(total_time)\n",
        "\n",
        "filtered_images = pd.DataFrame(filtered_data)"
      ],
      "metadata": {
        "id": "SWNxwIZXO6vl"
      },
      "execution_count": 123,
      "outputs": []
    },
    {
      "cell_type": "code",
      "source": [
        "counter = 0\n",
        "mse_sum = 0\n",
        "psnr_sum = 0\n",
        "\n",
        "for index, row in original.iterrows():\n",
        "    original_img = row['image']\n",
        "\n",
        "    filtered_img_rows = filtered_images[filtered_images['filename'].str.contains(row['filename'])]\n",
        "\n",
        "    for _, filtered_row in filtered_img_rows.iterrows():\n",
        "        filtered_img = filtered_row['image']\n",
        "\n",
        "        mse = calculate_mse(original_img, filtered_img)\n",
        "        mse_sum += mse\n",
        "        psnr = calculate_psnr(mse)\n",
        "        psnr_sum += psnr\n",
        "\n",
        "        counter +=1\n",
        "\n",
        "avrg_mse = mse_sum/counter\n",
        "average_MSE['bilateral filter']['gaussian'].append(avrg_mse)\n",
        "print(f\"avarage mse = {avrg_mse}\")\n",
        "\n",
        "avrg_psnr = psnr_sum/counter\n",
        "average_psnr['bilateral filter']['gaussian'].append(avrg_psnr)\n",
        "print(f\"avarage psnr = {avrg_psnr}\")"
      ],
      "metadata": {
        "colab": {
          "base_uri": "https://localhost:8080/"
        },
        "id": "BHVzzdS6PGKS",
        "outputId": "53c99d3d-705c-48c2-ca46-1b815848c65a"
      },
      "execution_count": 124,
      "outputs": [
        {
          "output_type": "stream",
          "name": "stdout",
          "text": [
            "avarage mse = 91.67236280566765\n",
            "avarage psnr = 28.700902510350968\n"
          ]
        }
      ]
    },
    {
      "cell_type": "code",
      "source": [
        "print(Computational_times)\n",
        "print(average_MSE)\n",
        "print(average_psnr)"
      ],
      "metadata": {
        "colab": {
          "base_uri": "https://localhost:8080/"
        },
        "id": "_7N8-aCmPKHq",
        "outputId": "83c02eb3-575d-4f67-9b33-ca9b93046f4e"
      },
      "execution_count": 125,
      "outputs": [
        {
          "output_type": "stream",
          "name": "stdout",
          "text": [
            "{'box filter': {'salt and pepper': [0.01754903793334961, 0.010097980499267578], 'gaussian': [0.008693218231201172, 0.008643150329589844]}, 'Gaussian filter': {'salt and pepper': [0.026183128356933594, 0.022742271423339844], 'gaussian': [0.014070272445678711, 0.013068437576293945]}, 'median filter': {'salt and pepper': [0.032800912857055664, 0.16362214088439941], 'gaussian': [0.032048702239990234, 0.37059974670410156]}, 'adaptive mean filter': {'salt and pepper': [1.0191903114318848, 3.2312936782836914], 'gaussian': [0.9807760715484619, 4.07667875289917]}, 'adaptive median filter': {'salt and pepper': [0.860196590423584, 3.7864882946014404], 'gaussian': [0.9615793228149414, 4.6729066371917725]}, 'bilateral filter': {'salt and pepper': [0.07159948348999023, 0.2841055393218994], 'gaussian': [0.10380411148071289, 0.30083584785461426]}}\n",
            "{'box filter': {'salt and pepper': [79.27544544603639, 86.54360995378096], 'gaussian': [92.44091176529274, 92.70677240030038]}, 'Gaussian filter': {'salt and pepper': [68.55629655716312, 68.9694820107575], 'gaussian': [93.16125932199738, 93.13898616725429]}, 'median filter': {'salt and pepper': [25.39650320913456, 33.53542185231457], 'gaussian': [92.23035709915735, 91.16955419857914]}, 'adaptive mean filter': {'salt and pepper': [9.17055448428608, 12.488213560014303], 'gaussian': [87.73511403872736, 87.84107266283833]}, 'adaptive median filter': {'salt and pepper': [7.64350729088989, 8.625226519968642], 'gaussian': [87.45690669052698, 87.49970844155779]}, 'bilateral filter': {'salt and pepper': [46.91489094559646, 54.977402183792094], 'gaussian': [91.80272776110009, 91.67236280566765]}}\n",
            "{'box filter': {'salt and pepper': [29.513939176505275, 29.039323335260278], 'gaussian': [28.69155170085817, 28.60349364580841]}, 'Gaussian filter': {'salt and pepper': [30.27564963465619, 30.253101163014794], 'gaussian': [28.665735471794612, 28.666914987229323]}, 'median filter': {'salt and pepper': [34.34935925105379, 33.22502811713373], 'gaussian': [28.723927539577105, 28.75128031263897]}, 'adaptive mean filter': {'salt and pepper': [40.902870272395475, 38.7766163983522], 'gaussian': [28.923841415325587, 28.91547936162378]}, 'adaptive median filter': {'salt and pepper': [41.828651822227684, 40.18786271577876], 'gaussian': [28.947588622118346, 28.945760010268934]}, 'bilateral filter': {'salt and pepper': [31.835928516397797, 31.021815165896484], 'gaussian': [28.749776110453904, 28.700902510350968]}}\n"
          ]
        }
      ]
    },
    {
      "cell_type": "markdown",
      "source": [
        "# Results and Discussion:"
      ],
      "metadata": {
        "id": "9HaAtZdsPN8N"
      }
    },
    {
      "cell_type": "code",
      "source": [
        "# Convert each dictionary to a DataFrame and display\n",
        "timing_df = pd.DataFrame(Computational_times).T\n",
        "psnr_df = pd.DataFrame(average_psnr).T\n",
        "mse_df = pd.DataFrame(average_MSE).T\n",
        "\n",
        "# Rename columns for clarity\n",
        "timing_df.columns = pd.MultiIndex.from_product([['Salt and Pepper', 'Gaussian']])\n",
        "psnr_df.columns = pd.MultiIndex.from_product([['Salt and Pepper', 'Gaussian']])\n",
        "mse_df.columns = pd.MultiIndex.from_product([['Salt and Pepper', 'Gaussian']])"
      ],
      "metadata": {
        "id": "VmwiHCp_PsQh"
      },
      "execution_count": 131,
      "outputs": []
    },
    {
      "cell_type": "code",
      "source": [
        "print(timing_df.head())"
      ],
      "metadata": {
        "colab": {
          "base_uri": "https://localhost:8080/"
        },
        "id": "misD7j0BQCEv",
        "outputId": "cb948d94-48ec-4e73-bb09-d09bac0e24bb"
      },
      "execution_count": 128,
      "outputs": [
        {
          "output_type": "stream",
          "name": "stdout",
          "text": [
            "                                                     salt and pepper  \\\n",
            "box filter               [0.01754903793334961, 0.010097980499267578]   \n",
            "Gaussian filter         [0.026183128356933594, 0.022742271423339844]   \n",
            "median filter            [0.032800912857055664, 0.16362214088439941]   \n",
            "adaptive mean filter        [1.0191903114318848, 3.2312936782836914]   \n",
            "adaptive median filter       [0.860196590423584, 3.7864882946014404]   \n",
            "\n",
            "                                                            gaussian  \n",
            "box filter              [0.008693218231201172, 0.008643150329589844]  \n",
            "Gaussian filter         [0.014070272445678711, 0.013068437576293945]  \n",
            "median filter            [0.032048702239990234, 0.37059974670410156]  \n",
            "adaptive mean filter          [0.9807760715484619, 4.07667875289917]  \n",
            "adaptive median filter      [0.9615793228149414, 4.6729066371917725]  \n"
          ]
        }
      ]
    },
    {
      "cell_type": "code",
      "source": [
        "display(timing_df)"
      ],
      "metadata": {
        "colab": {
          "base_uri": "https://localhost:8080/",
          "height": 237
        },
        "id": "9n85iZ_pQ_lK",
        "outputId": "3cfe404a-c8c2-4fcc-ee49-6ac0f3a0b6bc"
      },
      "execution_count": 132,
      "outputs": [
        {
          "output_type": "display_data",
          "data": {
            "text/plain": [
              "                                                     Salt and Pepper  \\\n",
              "box filter               [0.01754903793334961, 0.010097980499267578]   \n",
              "Gaussian filter         [0.026183128356933594, 0.022742271423339844]   \n",
              "median filter            [0.032800912857055664, 0.16362214088439941]   \n",
              "adaptive mean filter        [1.0191903114318848, 3.2312936782836914]   \n",
              "adaptive median filter       [0.860196590423584, 3.7864882946014404]   \n",
              "bilateral filter           [0.07159948348999023, 0.2841055393218994]   \n",
              "\n",
              "                                                            Gaussian  \n",
              "box filter              [0.008693218231201172, 0.008643150329589844]  \n",
              "Gaussian filter         [0.014070272445678711, 0.013068437576293945]  \n",
              "median filter            [0.032048702239990234, 0.37059974670410156]  \n",
              "adaptive mean filter          [0.9807760715484619, 4.07667875289917]  \n",
              "adaptive median filter      [0.9615793228149414, 4.6729066371917725]  \n",
              "bilateral filter          [0.10380411148071289, 0.30083584785461426]  "
            ],
            "text/html": [
              "\n",
              "  <div id=\"df-d4c7c03f-f88f-40e8-a56a-82f39b19fc1a\" class=\"colab-df-container\">\n",
              "    <div>\n",
              "<style scoped>\n",
              "    .dataframe tbody tr th:only-of-type {\n",
              "        vertical-align: middle;\n",
              "    }\n",
              "\n",
              "    .dataframe tbody tr th {\n",
              "        vertical-align: top;\n",
              "    }\n",
              "\n",
              "    .dataframe thead tr th {\n",
              "        text-align: left;\n",
              "    }\n",
              "</style>\n",
              "<table border=\"1\" class=\"dataframe\">\n",
              "  <thead>\n",
              "    <tr>\n",
              "      <th></th>\n",
              "      <th>Salt and Pepper</th>\n",
              "      <th>Gaussian</th>\n",
              "    </tr>\n",
              "  </thead>\n",
              "  <tbody>\n",
              "    <tr>\n",
              "      <th>box filter</th>\n",
              "      <td>[0.01754903793334961, 0.010097980499267578]</td>\n",
              "      <td>[0.008693218231201172, 0.008643150329589844]</td>\n",
              "    </tr>\n",
              "    <tr>\n",
              "      <th>Gaussian filter</th>\n",
              "      <td>[0.026183128356933594, 0.022742271423339844]</td>\n",
              "      <td>[0.014070272445678711, 0.013068437576293945]</td>\n",
              "    </tr>\n",
              "    <tr>\n",
              "      <th>median filter</th>\n",
              "      <td>[0.032800912857055664, 0.16362214088439941]</td>\n",
              "      <td>[0.032048702239990234, 0.37059974670410156]</td>\n",
              "    </tr>\n",
              "    <tr>\n",
              "      <th>adaptive mean filter</th>\n",
              "      <td>[1.0191903114318848, 3.2312936782836914]</td>\n",
              "      <td>[0.9807760715484619, 4.07667875289917]</td>\n",
              "    </tr>\n",
              "    <tr>\n",
              "      <th>adaptive median filter</th>\n",
              "      <td>[0.860196590423584, 3.7864882946014404]</td>\n",
              "      <td>[0.9615793228149414, 4.6729066371917725]</td>\n",
              "    </tr>\n",
              "    <tr>\n",
              "      <th>bilateral filter</th>\n",
              "      <td>[0.07159948348999023, 0.2841055393218994]</td>\n",
              "      <td>[0.10380411148071289, 0.30083584785461426]</td>\n",
              "    </tr>\n",
              "  </tbody>\n",
              "</table>\n",
              "</div>\n",
              "    <div class=\"colab-df-buttons\">\n",
              "\n",
              "  <div class=\"colab-df-container\">\n",
              "    <button class=\"colab-df-convert\" onclick=\"convertToInteractive('df-d4c7c03f-f88f-40e8-a56a-82f39b19fc1a')\"\n",
              "            title=\"Convert this dataframe to an interactive table.\"\n",
              "            style=\"display:none;\">\n",
              "\n",
              "  <svg xmlns=\"http://www.w3.org/2000/svg\" height=\"24px\" viewBox=\"0 -960 960 960\">\n",
              "    <path d=\"M120-120v-720h720v720H120Zm60-500h600v-160H180v160Zm220 220h160v-160H400v160Zm0 220h160v-160H400v160ZM180-400h160v-160H180v160Zm440 0h160v-160H620v160ZM180-180h160v-160H180v160Zm440 0h160v-160H620v160Z\"/>\n",
              "  </svg>\n",
              "    </button>\n",
              "\n",
              "  <style>\n",
              "    .colab-df-container {\n",
              "      display:flex;\n",
              "      gap: 12px;\n",
              "    }\n",
              "\n",
              "    .colab-df-convert {\n",
              "      background-color: #E8F0FE;\n",
              "      border: none;\n",
              "      border-radius: 50%;\n",
              "      cursor: pointer;\n",
              "      display: none;\n",
              "      fill: #1967D2;\n",
              "      height: 32px;\n",
              "      padding: 0 0 0 0;\n",
              "      width: 32px;\n",
              "    }\n",
              "\n",
              "    .colab-df-convert:hover {\n",
              "      background-color: #E2EBFA;\n",
              "      box-shadow: 0px 1px 2px rgba(60, 64, 67, 0.3), 0px 1px 3px 1px rgba(60, 64, 67, 0.15);\n",
              "      fill: #174EA6;\n",
              "    }\n",
              "\n",
              "    .colab-df-buttons div {\n",
              "      margin-bottom: 4px;\n",
              "    }\n",
              "\n",
              "    [theme=dark] .colab-df-convert {\n",
              "      background-color: #3B4455;\n",
              "      fill: #D2E3FC;\n",
              "    }\n",
              "\n",
              "    [theme=dark] .colab-df-convert:hover {\n",
              "      background-color: #434B5C;\n",
              "      box-shadow: 0px 1px 3px 1px rgba(0, 0, 0, 0.15);\n",
              "      filter: drop-shadow(0px 1px 2px rgba(0, 0, 0, 0.3));\n",
              "      fill: #FFFFFF;\n",
              "    }\n",
              "  </style>\n",
              "\n",
              "    <script>\n",
              "      const buttonEl =\n",
              "        document.querySelector('#df-d4c7c03f-f88f-40e8-a56a-82f39b19fc1a button.colab-df-convert');\n",
              "      buttonEl.style.display =\n",
              "        google.colab.kernel.accessAllowed ? 'block' : 'none';\n",
              "\n",
              "      async function convertToInteractive(key) {\n",
              "        const element = document.querySelector('#df-d4c7c03f-f88f-40e8-a56a-82f39b19fc1a');\n",
              "        const dataTable =\n",
              "          await google.colab.kernel.invokeFunction('convertToInteractive',\n",
              "                                                    [key], {});\n",
              "        if (!dataTable) return;\n",
              "\n",
              "        const docLinkHtml = 'Like what you see? Visit the ' +\n",
              "          '<a target=\"_blank\" href=https://colab.research.google.com/notebooks/data_table.ipynb>data table notebook</a>'\n",
              "          + ' to learn more about interactive tables.';\n",
              "        element.innerHTML = '';\n",
              "        dataTable['output_type'] = 'display_data';\n",
              "        await google.colab.output.renderOutput(dataTable, element);\n",
              "        const docLink = document.createElement('div');\n",
              "        docLink.innerHTML = docLinkHtml;\n",
              "        element.appendChild(docLink);\n",
              "      }\n",
              "    </script>\n",
              "  </div>\n",
              "\n",
              "\n",
              "<div id=\"df-a8f6bb59-366b-41f5-81b9-8dc9d4abae2f\">\n",
              "  <button class=\"colab-df-quickchart\" onclick=\"quickchart('df-a8f6bb59-366b-41f5-81b9-8dc9d4abae2f')\"\n",
              "            title=\"Suggest charts\"\n",
              "            style=\"display:none;\">\n",
              "\n",
              "<svg xmlns=\"http://www.w3.org/2000/svg\" height=\"24px\"viewBox=\"0 0 24 24\"\n",
              "     width=\"24px\">\n",
              "    <g>\n",
              "        <path d=\"M19 3H5c-1.1 0-2 .9-2 2v14c0 1.1.9 2 2 2h14c1.1 0 2-.9 2-2V5c0-1.1-.9-2-2-2zM9 17H7v-7h2v7zm4 0h-2V7h2v10zm4 0h-2v-4h2v4z\"/>\n",
              "    </g>\n",
              "</svg>\n",
              "  </button>\n",
              "\n",
              "<style>\n",
              "  .colab-df-quickchart {\n",
              "      --bg-color: #E8F0FE;\n",
              "      --fill-color: #1967D2;\n",
              "      --hover-bg-color: #E2EBFA;\n",
              "      --hover-fill-color: #174EA6;\n",
              "      --disabled-fill-color: #AAA;\n",
              "      --disabled-bg-color: #DDD;\n",
              "  }\n",
              "\n",
              "  [theme=dark] .colab-df-quickchart {\n",
              "      --bg-color: #3B4455;\n",
              "      --fill-color: #D2E3FC;\n",
              "      --hover-bg-color: #434B5C;\n",
              "      --hover-fill-color: #FFFFFF;\n",
              "      --disabled-bg-color: #3B4455;\n",
              "      --disabled-fill-color: #666;\n",
              "  }\n",
              "\n",
              "  .colab-df-quickchart {\n",
              "    background-color: var(--bg-color);\n",
              "    border: none;\n",
              "    border-radius: 50%;\n",
              "    cursor: pointer;\n",
              "    display: none;\n",
              "    fill: var(--fill-color);\n",
              "    height: 32px;\n",
              "    padding: 0;\n",
              "    width: 32px;\n",
              "  }\n",
              "\n",
              "  .colab-df-quickchart:hover {\n",
              "    background-color: var(--hover-bg-color);\n",
              "    box-shadow: 0 1px 2px rgba(60, 64, 67, 0.3), 0 1px 3px 1px rgba(60, 64, 67, 0.15);\n",
              "    fill: var(--button-hover-fill-color);\n",
              "  }\n",
              "\n",
              "  .colab-df-quickchart-complete:disabled,\n",
              "  .colab-df-quickchart-complete:disabled:hover {\n",
              "    background-color: var(--disabled-bg-color);\n",
              "    fill: var(--disabled-fill-color);\n",
              "    box-shadow: none;\n",
              "  }\n",
              "\n",
              "  .colab-df-spinner {\n",
              "    border: 2px solid var(--fill-color);\n",
              "    border-color: transparent;\n",
              "    border-bottom-color: var(--fill-color);\n",
              "    animation:\n",
              "      spin 1s steps(1) infinite;\n",
              "  }\n",
              "\n",
              "  @keyframes spin {\n",
              "    0% {\n",
              "      border-color: transparent;\n",
              "      border-bottom-color: var(--fill-color);\n",
              "      border-left-color: var(--fill-color);\n",
              "    }\n",
              "    20% {\n",
              "      border-color: transparent;\n",
              "      border-left-color: var(--fill-color);\n",
              "      border-top-color: var(--fill-color);\n",
              "    }\n",
              "    30% {\n",
              "      border-color: transparent;\n",
              "      border-left-color: var(--fill-color);\n",
              "      border-top-color: var(--fill-color);\n",
              "      border-right-color: var(--fill-color);\n",
              "    }\n",
              "    40% {\n",
              "      border-color: transparent;\n",
              "      border-right-color: var(--fill-color);\n",
              "      border-top-color: var(--fill-color);\n",
              "    }\n",
              "    60% {\n",
              "      border-color: transparent;\n",
              "      border-right-color: var(--fill-color);\n",
              "    }\n",
              "    80% {\n",
              "      border-color: transparent;\n",
              "      border-right-color: var(--fill-color);\n",
              "      border-bottom-color: var(--fill-color);\n",
              "    }\n",
              "    90% {\n",
              "      border-color: transparent;\n",
              "      border-bottom-color: var(--fill-color);\n",
              "    }\n",
              "  }\n",
              "</style>\n",
              "\n",
              "  <script>\n",
              "    async function quickchart(key) {\n",
              "      const quickchartButtonEl =\n",
              "        document.querySelector('#' + key + ' button');\n",
              "      quickchartButtonEl.disabled = true;  // To prevent multiple clicks.\n",
              "      quickchartButtonEl.classList.add('colab-df-spinner');\n",
              "      try {\n",
              "        const charts = await google.colab.kernel.invokeFunction(\n",
              "            'suggestCharts', [key], {});\n",
              "      } catch (error) {\n",
              "        console.error('Error during call to suggestCharts:', error);\n",
              "      }\n",
              "      quickchartButtonEl.classList.remove('colab-df-spinner');\n",
              "      quickchartButtonEl.classList.add('colab-df-quickchart-complete');\n",
              "    }\n",
              "    (() => {\n",
              "      let quickchartButtonEl =\n",
              "        document.querySelector('#df-a8f6bb59-366b-41f5-81b9-8dc9d4abae2f button');\n",
              "      quickchartButtonEl.style.display =\n",
              "        google.colab.kernel.accessAllowed ? 'block' : 'none';\n",
              "    })();\n",
              "  </script>\n",
              "</div>\n",
              "\n",
              "  <div id=\"id_c2d183be-9246-4377-ba8c-252c10872d3c\">\n",
              "    <style>\n",
              "      .colab-df-generate {\n",
              "        background-color: #E8F0FE;\n",
              "        border: none;\n",
              "        border-radius: 50%;\n",
              "        cursor: pointer;\n",
              "        display: none;\n",
              "        fill: #1967D2;\n",
              "        height: 32px;\n",
              "        padding: 0 0 0 0;\n",
              "        width: 32px;\n",
              "      }\n",
              "\n",
              "      .colab-df-generate:hover {\n",
              "        background-color: #E2EBFA;\n",
              "        box-shadow: 0px 1px 2px rgba(60, 64, 67, 0.3), 0px 1px 3px 1px rgba(60, 64, 67, 0.15);\n",
              "        fill: #174EA6;\n",
              "      }\n",
              "\n",
              "      [theme=dark] .colab-df-generate {\n",
              "        background-color: #3B4455;\n",
              "        fill: #D2E3FC;\n",
              "      }\n",
              "\n",
              "      [theme=dark] .colab-df-generate:hover {\n",
              "        background-color: #434B5C;\n",
              "        box-shadow: 0px 1px 3px 1px rgba(0, 0, 0, 0.15);\n",
              "        filter: drop-shadow(0px 1px 2px rgba(0, 0, 0, 0.3));\n",
              "        fill: #FFFFFF;\n",
              "      }\n",
              "    </style>\n",
              "    <button class=\"colab-df-generate\" onclick=\"generateWithVariable('timing_df')\"\n",
              "            title=\"Generate code using this dataframe.\"\n",
              "            style=\"display:none;\">\n",
              "\n",
              "  <svg xmlns=\"http://www.w3.org/2000/svg\" height=\"24px\"viewBox=\"0 0 24 24\"\n",
              "       width=\"24px\">\n",
              "    <path d=\"M7,19H8.4L18.45,9,17,7.55,7,17.6ZM5,21V16.75L18.45,3.32a2,2,0,0,1,2.83,0l1.4,1.43a1.91,1.91,0,0,1,.58,1.4,1.91,1.91,0,0,1-.58,1.4L9.25,21ZM18.45,9,17,7.55Zm-12,3A5.31,5.31,0,0,0,4.9,8.1,5.31,5.31,0,0,0,1,6.5,5.31,5.31,0,0,0,4.9,4.9,5.31,5.31,0,0,0,6.5,1,5.31,5.31,0,0,0,8.1,4.9,5.31,5.31,0,0,0,12,6.5,5.46,5.46,0,0,0,6.5,12Z\"/>\n",
              "  </svg>\n",
              "    </button>\n",
              "    <script>\n",
              "      (() => {\n",
              "      const buttonEl =\n",
              "        document.querySelector('#id_c2d183be-9246-4377-ba8c-252c10872d3c button.colab-df-generate');\n",
              "      buttonEl.style.display =\n",
              "        google.colab.kernel.accessAllowed ? 'block' : 'none';\n",
              "\n",
              "      buttonEl.onclick = () => {\n",
              "        google.colab.notebook.generateWithVariable('timing_df');\n",
              "      }\n",
              "      })();\n",
              "    </script>\n",
              "  </div>\n",
              "\n",
              "    </div>\n",
              "  </div>\n"
            ],
            "application/vnd.google.colaboratory.intrinsic+json": {
              "type": "dataframe",
              "variable_name": "timing_df",
              "summary": "{\n  \"name\": \"timing_df\",\n  \"rows\": 6,\n  \"fields\": [\n    {\n      \"column\": [\n        \"Salt and Pepper\"\n      ],\n      \"properties\": {\n        \"dtype\": \"object\",\n        \"semantic_type\": \"\",\n        \"description\": \"\"\n      }\n    },\n    {\n      \"column\": [\n        \"Gaussian\"\n      ],\n      \"properties\": {\n        \"dtype\": \"object\",\n        \"semantic_type\": \"\",\n        \"description\": \"\"\n      }\n    }\n  ]\n}"
            }
          },
          "metadata": {}
        }
      ]
    },
    {
      "cell_type": "code",
      "source": [
        "# Expand each column to have two sub-columns ('kernel=5' and 'kernel=11')\n",
        "timing_df_expanded = pd.concat([timing_df[col].apply(pd.Series) for col in timing_df.columns], axis=1)\n",
        "psnr_df_expanded = pd.concat([psnr_df[col].apply(pd.Series) for col in psnr_df.columns], axis=1)\n",
        "mse_df_expanded = pd.concat([mse_df[col].apply(pd.Series) for col in mse_df.columns], axis=1)\n",
        "\n",
        "# Create new multi-level column index\n",
        "timing_df_expanded.columns = pd.MultiIndex.from_product([['Salt and Pepper', 'Gaussian'], ['kernel=5', 'kernel=11']])\n",
        "psnr_df_expanded.columns = pd.MultiIndex.from_product([['Salt and Pepper', 'Gaussian'], ['kernel=5', 'kernel=11']])\n",
        "mse_df_expanded.columns = pd.MultiIndex.from_product([['Salt and Pepper', 'Gaussian'], ['kernel=5', 'kernel=11']])"
      ],
      "metadata": {
        "id": "gZiqiXCFSBPP"
      },
      "execution_count": 134,
      "outputs": []
    },
    {
      "cell_type": "code",
      "source": [
        "print(\"convulotion time (seconds):\")\n",
        "display(timing_df_expanded)"
      ],
      "metadata": {
        "colab": {
          "base_uri": "https://localhost:8080/",
          "height": 286
        },
        "id": "BBgvQsKSSmV-",
        "outputId": "f5fcb38a-03db-4e10-e9a2-cac7dadd3bb5"
      },
      "execution_count": 139,
      "outputs": [
        {
          "output_type": "stream",
          "name": "stdout",
          "text": [
            "convulotion time (seconds):\n"
          ]
        },
        {
          "output_type": "display_data",
          "data": {
            "text/plain": [
              "                       Salt and Pepper            Gaussian          \n",
              "                              kernel=5 kernel=11  kernel=5 kernel=11\n",
              "box filter                    0.017549  0.010098  0.008693  0.008643\n",
              "Gaussian filter               0.026183  0.022742  0.014070  0.013068\n",
              "median filter                 0.032801  0.163622  0.032049  0.370600\n",
              "adaptive mean filter          1.019190  3.231294  0.980776  4.076679\n",
              "adaptive median filter        0.860197  3.786488  0.961579  4.672907\n",
              "bilateral filter              0.071599  0.284106  0.103804  0.300836"
            ],
            "text/html": [
              "\n",
              "  <div id=\"df-43ef6661-1364-4508-b64b-ae38b1e72656\" class=\"colab-df-container\">\n",
              "    <div>\n",
              "<style scoped>\n",
              "    .dataframe tbody tr th:only-of-type {\n",
              "        vertical-align: middle;\n",
              "    }\n",
              "\n",
              "    .dataframe tbody tr th {\n",
              "        vertical-align: top;\n",
              "    }\n",
              "\n",
              "    .dataframe thead tr th {\n",
              "        text-align: left;\n",
              "    }\n",
              "</style>\n",
              "<table border=\"1\" class=\"dataframe\">\n",
              "  <thead>\n",
              "    <tr>\n",
              "      <th></th>\n",
              "      <th colspan=\"2\" halign=\"left\">Salt and Pepper</th>\n",
              "      <th colspan=\"2\" halign=\"left\">Gaussian</th>\n",
              "    </tr>\n",
              "    <tr>\n",
              "      <th></th>\n",
              "      <th>kernel=5</th>\n",
              "      <th>kernel=11</th>\n",
              "      <th>kernel=5</th>\n",
              "      <th>kernel=11</th>\n",
              "    </tr>\n",
              "  </thead>\n",
              "  <tbody>\n",
              "    <tr>\n",
              "      <th>box filter</th>\n",
              "      <td>0.017549</td>\n",
              "      <td>0.010098</td>\n",
              "      <td>0.008693</td>\n",
              "      <td>0.008643</td>\n",
              "    </tr>\n",
              "    <tr>\n",
              "      <th>Gaussian filter</th>\n",
              "      <td>0.026183</td>\n",
              "      <td>0.022742</td>\n",
              "      <td>0.014070</td>\n",
              "      <td>0.013068</td>\n",
              "    </tr>\n",
              "    <tr>\n",
              "      <th>median filter</th>\n",
              "      <td>0.032801</td>\n",
              "      <td>0.163622</td>\n",
              "      <td>0.032049</td>\n",
              "      <td>0.370600</td>\n",
              "    </tr>\n",
              "    <tr>\n",
              "      <th>adaptive mean filter</th>\n",
              "      <td>1.019190</td>\n",
              "      <td>3.231294</td>\n",
              "      <td>0.980776</td>\n",
              "      <td>4.076679</td>\n",
              "    </tr>\n",
              "    <tr>\n",
              "      <th>adaptive median filter</th>\n",
              "      <td>0.860197</td>\n",
              "      <td>3.786488</td>\n",
              "      <td>0.961579</td>\n",
              "      <td>4.672907</td>\n",
              "    </tr>\n",
              "    <tr>\n",
              "      <th>bilateral filter</th>\n",
              "      <td>0.071599</td>\n",
              "      <td>0.284106</td>\n",
              "      <td>0.103804</td>\n",
              "      <td>0.300836</td>\n",
              "    </tr>\n",
              "  </tbody>\n",
              "</table>\n",
              "</div>\n",
              "    <div class=\"colab-df-buttons\">\n",
              "\n",
              "  <div class=\"colab-df-container\">\n",
              "    <button class=\"colab-df-convert\" onclick=\"convertToInteractive('df-43ef6661-1364-4508-b64b-ae38b1e72656')\"\n",
              "            title=\"Convert this dataframe to an interactive table.\"\n",
              "            style=\"display:none;\">\n",
              "\n",
              "  <svg xmlns=\"http://www.w3.org/2000/svg\" height=\"24px\" viewBox=\"0 -960 960 960\">\n",
              "    <path d=\"M120-120v-720h720v720H120Zm60-500h600v-160H180v160Zm220 220h160v-160H400v160Zm0 220h160v-160H400v160ZM180-400h160v-160H180v160Zm440 0h160v-160H620v160ZM180-180h160v-160H180v160Zm440 0h160v-160H620v160Z\"/>\n",
              "  </svg>\n",
              "    </button>\n",
              "\n",
              "  <style>\n",
              "    .colab-df-container {\n",
              "      display:flex;\n",
              "      gap: 12px;\n",
              "    }\n",
              "\n",
              "    .colab-df-convert {\n",
              "      background-color: #E8F0FE;\n",
              "      border: none;\n",
              "      border-radius: 50%;\n",
              "      cursor: pointer;\n",
              "      display: none;\n",
              "      fill: #1967D2;\n",
              "      height: 32px;\n",
              "      padding: 0 0 0 0;\n",
              "      width: 32px;\n",
              "    }\n",
              "\n",
              "    .colab-df-convert:hover {\n",
              "      background-color: #E2EBFA;\n",
              "      box-shadow: 0px 1px 2px rgba(60, 64, 67, 0.3), 0px 1px 3px 1px rgba(60, 64, 67, 0.15);\n",
              "      fill: #174EA6;\n",
              "    }\n",
              "\n",
              "    .colab-df-buttons div {\n",
              "      margin-bottom: 4px;\n",
              "    }\n",
              "\n",
              "    [theme=dark] .colab-df-convert {\n",
              "      background-color: #3B4455;\n",
              "      fill: #D2E3FC;\n",
              "    }\n",
              "\n",
              "    [theme=dark] .colab-df-convert:hover {\n",
              "      background-color: #434B5C;\n",
              "      box-shadow: 0px 1px 3px 1px rgba(0, 0, 0, 0.15);\n",
              "      filter: drop-shadow(0px 1px 2px rgba(0, 0, 0, 0.3));\n",
              "      fill: #FFFFFF;\n",
              "    }\n",
              "  </style>\n",
              "\n",
              "    <script>\n",
              "      const buttonEl =\n",
              "        document.querySelector('#df-43ef6661-1364-4508-b64b-ae38b1e72656 button.colab-df-convert');\n",
              "      buttonEl.style.display =\n",
              "        google.colab.kernel.accessAllowed ? 'block' : 'none';\n",
              "\n",
              "      async function convertToInteractive(key) {\n",
              "        const element = document.querySelector('#df-43ef6661-1364-4508-b64b-ae38b1e72656');\n",
              "        const dataTable =\n",
              "          await google.colab.kernel.invokeFunction('convertToInteractive',\n",
              "                                                    [key], {});\n",
              "        if (!dataTable) return;\n",
              "\n",
              "        const docLinkHtml = 'Like what you see? Visit the ' +\n",
              "          '<a target=\"_blank\" href=https://colab.research.google.com/notebooks/data_table.ipynb>data table notebook</a>'\n",
              "          + ' to learn more about interactive tables.';\n",
              "        element.innerHTML = '';\n",
              "        dataTable['output_type'] = 'display_data';\n",
              "        await google.colab.output.renderOutput(dataTable, element);\n",
              "        const docLink = document.createElement('div');\n",
              "        docLink.innerHTML = docLinkHtml;\n",
              "        element.appendChild(docLink);\n",
              "      }\n",
              "    </script>\n",
              "  </div>\n",
              "\n",
              "\n",
              "<div id=\"df-7514d2f6-ec70-4894-8a0b-2ef2988df17a\">\n",
              "  <button class=\"colab-df-quickchart\" onclick=\"quickchart('df-7514d2f6-ec70-4894-8a0b-2ef2988df17a')\"\n",
              "            title=\"Suggest charts\"\n",
              "            style=\"display:none;\">\n",
              "\n",
              "<svg xmlns=\"http://www.w3.org/2000/svg\" height=\"24px\"viewBox=\"0 0 24 24\"\n",
              "     width=\"24px\">\n",
              "    <g>\n",
              "        <path d=\"M19 3H5c-1.1 0-2 .9-2 2v14c0 1.1.9 2 2 2h14c1.1 0 2-.9 2-2V5c0-1.1-.9-2-2-2zM9 17H7v-7h2v7zm4 0h-2V7h2v10zm4 0h-2v-4h2v4z\"/>\n",
              "    </g>\n",
              "</svg>\n",
              "  </button>\n",
              "\n",
              "<style>\n",
              "  .colab-df-quickchart {\n",
              "      --bg-color: #E8F0FE;\n",
              "      --fill-color: #1967D2;\n",
              "      --hover-bg-color: #E2EBFA;\n",
              "      --hover-fill-color: #174EA6;\n",
              "      --disabled-fill-color: #AAA;\n",
              "      --disabled-bg-color: #DDD;\n",
              "  }\n",
              "\n",
              "  [theme=dark] .colab-df-quickchart {\n",
              "      --bg-color: #3B4455;\n",
              "      --fill-color: #D2E3FC;\n",
              "      --hover-bg-color: #434B5C;\n",
              "      --hover-fill-color: #FFFFFF;\n",
              "      --disabled-bg-color: #3B4455;\n",
              "      --disabled-fill-color: #666;\n",
              "  }\n",
              "\n",
              "  .colab-df-quickchart {\n",
              "    background-color: var(--bg-color);\n",
              "    border: none;\n",
              "    border-radius: 50%;\n",
              "    cursor: pointer;\n",
              "    display: none;\n",
              "    fill: var(--fill-color);\n",
              "    height: 32px;\n",
              "    padding: 0;\n",
              "    width: 32px;\n",
              "  }\n",
              "\n",
              "  .colab-df-quickchart:hover {\n",
              "    background-color: var(--hover-bg-color);\n",
              "    box-shadow: 0 1px 2px rgba(60, 64, 67, 0.3), 0 1px 3px 1px rgba(60, 64, 67, 0.15);\n",
              "    fill: var(--button-hover-fill-color);\n",
              "  }\n",
              "\n",
              "  .colab-df-quickchart-complete:disabled,\n",
              "  .colab-df-quickchart-complete:disabled:hover {\n",
              "    background-color: var(--disabled-bg-color);\n",
              "    fill: var(--disabled-fill-color);\n",
              "    box-shadow: none;\n",
              "  }\n",
              "\n",
              "  .colab-df-spinner {\n",
              "    border: 2px solid var(--fill-color);\n",
              "    border-color: transparent;\n",
              "    border-bottom-color: var(--fill-color);\n",
              "    animation:\n",
              "      spin 1s steps(1) infinite;\n",
              "  }\n",
              "\n",
              "  @keyframes spin {\n",
              "    0% {\n",
              "      border-color: transparent;\n",
              "      border-bottom-color: var(--fill-color);\n",
              "      border-left-color: var(--fill-color);\n",
              "    }\n",
              "    20% {\n",
              "      border-color: transparent;\n",
              "      border-left-color: var(--fill-color);\n",
              "      border-top-color: var(--fill-color);\n",
              "    }\n",
              "    30% {\n",
              "      border-color: transparent;\n",
              "      border-left-color: var(--fill-color);\n",
              "      border-top-color: var(--fill-color);\n",
              "      border-right-color: var(--fill-color);\n",
              "    }\n",
              "    40% {\n",
              "      border-color: transparent;\n",
              "      border-right-color: var(--fill-color);\n",
              "      border-top-color: var(--fill-color);\n",
              "    }\n",
              "    60% {\n",
              "      border-color: transparent;\n",
              "      border-right-color: var(--fill-color);\n",
              "    }\n",
              "    80% {\n",
              "      border-color: transparent;\n",
              "      border-right-color: var(--fill-color);\n",
              "      border-bottom-color: var(--fill-color);\n",
              "    }\n",
              "    90% {\n",
              "      border-color: transparent;\n",
              "      border-bottom-color: var(--fill-color);\n",
              "    }\n",
              "  }\n",
              "</style>\n",
              "\n",
              "  <script>\n",
              "    async function quickchart(key) {\n",
              "      const quickchartButtonEl =\n",
              "        document.querySelector('#' + key + ' button');\n",
              "      quickchartButtonEl.disabled = true;  // To prevent multiple clicks.\n",
              "      quickchartButtonEl.classList.add('colab-df-spinner');\n",
              "      try {\n",
              "        const charts = await google.colab.kernel.invokeFunction(\n",
              "            'suggestCharts', [key], {});\n",
              "      } catch (error) {\n",
              "        console.error('Error during call to suggestCharts:', error);\n",
              "      }\n",
              "      quickchartButtonEl.classList.remove('colab-df-spinner');\n",
              "      quickchartButtonEl.classList.add('colab-df-quickchart-complete');\n",
              "    }\n",
              "    (() => {\n",
              "      let quickchartButtonEl =\n",
              "        document.querySelector('#df-7514d2f6-ec70-4894-8a0b-2ef2988df17a button');\n",
              "      quickchartButtonEl.style.display =\n",
              "        google.colab.kernel.accessAllowed ? 'block' : 'none';\n",
              "    })();\n",
              "  </script>\n",
              "</div>\n",
              "\n",
              "  <div id=\"id_ecf75960-7485-4784-a07f-b7866d623820\">\n",
              "    <style>\n",
              "      .colab-df-generate {\n",
              "        background-color: #E8F0FE;\n",
              "        border: none;\n",
              "        border-radius: 50%;\n",
              "        cursor: pointer;\n",
              "        display: none;\n",
              "        fill: #1967D2;\n",
              "        height: 32px;\n",
              "        padding: 0 0 0 0;\n",
              "        width: 32px;\n",
              "      }\n",
              "\n",
              "      .colab-df-generate:hover {\n",
              "        background-color: #E2EBFA;\n",
              "        box-shadow: 0px 1px 2px rgba(60, 64, 67, 0.3), 0px 1px 3px 1px rgba(60, 64, 67, 0.15);\n",
              "        fill: #174EA6;\n",
              "      }\n",
              "\n",
              "      [theme=dark] .colab-df-generate {\n",
              "        background-color: #3B4455;\n",
              "        fill: #D2E3FC;\n",
              "      }\n",
              "\n",
              "      [theme=dark] .colab-df-generate:hover {\n",
              "        background-color: #434B5C;\n",
              "        box-shadow: 0px 1px 3px 1px rgba(0, 0, 0, 0.15);\n",
              "        filter: drop-shadow(0px 1px 2px rgba(0, 0, 0, 0.3));\n",
              "        fill: #FFFFFF;\n",
              "      }\n",
              "    </style>\n",
              "    <button class=\"colab-df-generate\" onclick=\"generateWithVariable('timing_df_expanded')\"\n",
              "            title=\"Generate code using this dataframe.\"\n",
              "            style=\"display:none;\">\n",
              "\n",
              "  <svg xmlns=\"http://www.w3.org/2000/svg\" height=\"24px\"viewBox=\"0 0 24 24\"\n",
              "       width=\"24px\">\n",
              "    <path d=\"M7,19H8.4L18.45,9,17,7.55,7,17.6ZM5,21V16.75L18.45,3.32a2,2,0,0,1,2.83,0l1.4,1.43a1.91,1.91,0,0,1,.58,1.4,1.91,1.91,0,0,1-.58,1.4L9.25,21ZM18.45,9,17,7.55Zm-12,3A5.31,5.31,0,0,0,4.9,8.1,5.31,5.31,0,0,0,1,6.5,5.31,5.31,0,0,0,4.9,4.9,5.31,5.31,0,0,0,6.5,1,5.31,5.31,0,0,0,8.1,4.9,5.31,5.31,0,0,0,12,6.5,5.46,5.46,0,0,0,6.5,12Z\"/>\n",
              "  </svg>\n",
              "    </button>\n",
              "    <script>\n",
              "      (() => {\n",
              "      const buttonEl =\n",
              "        document.querySelector('#id_ecf75960-7485-4784-a07f-b7866d623820 button.colab-df-generate');\n",
              "      buttonEl.style.display =\n",
              "        google.colab.kernel.accessAllowed ? 'block' : 'none';\n",
              "\n",
              "      buttonEl.onclick = () => {\n",
              "        google.colab.notebook.generateWithVariable('timing_df_expanded');\n",
              "      }\n",
              "      })();\n",
              "    </script>\n",
              "  </div>\n",
              "\n",
              "    </div>\n",
              "  </div>\n"
            ],
            "application/vnd.google.colaboratory.intrinsic+json": {
              "type": "dataframe",
              "variable_name": "timing_df_expanded",
              "summary": "{\n  \"name\": \"timing_df_expanded\",\n  \"rows\": 6,\n  \"fields\": [\n    {\n      \"column\": [\n        \"Salt and Pepper\",\n        \"kernel=5\"\n      ],\n      \"properties\": {\n        \"dtype\": \"number\",\n        \"std\": 0.4692001235024033,\n        \"min\": 0.01754903793334961,\n        \"max\": 1.0191903114318848,\n        \"num_unique_values\": 6,\n        \"samples\": [\n          0.01754903793334961,\n          0.026183128356933594,\n          0.07159948348999023\n        ],\n        \"semantic_type\": \"\",\n        \"description\": \"\"\n      }\n    },\n    {\n      \"column\": [\n        \"Salt and Pepper\",\n        \"kernel=11\"\n      ],\n      \"properties\": {\n        \"dtype\": \"number\",\n        \"std\": 1.7615893146084403,\n        \"min\": 0.010097980499267578,\n        \"max\": 3.7864882946014404,\n        \"num_unique_values\": 6,\n        \"samples\": [\n          0.010097980499267578,\n          0.022742271423339844,\n          0.2841055393218994\n        ],\n        \"semantic_type\": \"\",\n        \"description\": \"\"\n      }\n    },\n    {\n      \"column\": [\n        \"Gaussian\",\n        \"kernel=5\"\n      ],\n      \"properties\": {\n        \"dtype\": \"number\",\n        \"std\": 0.4822762916780483,\n        \"min\": 0.008693218231201172,\n        \"max\": 0.9807760715484619,\n        \"num_unique_values\": 6,\n        \"samples\": [\n          0.008693218231201172,\n          0.014070272445678711,\n          0.10380411148071289\n        ],\n        \"semantic_type\": \"\",\n        \"description\": \"\"\n      }\n    },\n    {\n      \"column\": [\n        \"Gaussian\",\n        \"kernel=11\"\n      ],\n      \"properties\": {\n        \"dtype\": \"number\",\n        \"std\": 2.1827776595813297,\n        \"min\": 0.008643150329589844,\n        \"max\": 4.6729066371917725,\n        \"num_unique_values\": 6,\n        \"samples\": [\n          0.008643150329589844,\n          0.013068437576293945,\n          0.30083584785461426\n        ],\n        \"semantic_type\": \"\",\n        \"description\": \"\"\n      }\n    }\n  ]\n}"
            }
          },
          "metadata": {}
        }
      ]
    },
    {
      "cell_type": "markdown",
      "source": [
        "Simple filters like box filter, Gaussian filter, and median filter took mere fractions of a second to complete their run, with the box filter being the fastest, due to it being the simplest.\n",
        "\n",
        "\n",
        "\n",
        "\n",
        "In advance filters like adaptive mean filter, adaptive median filter, and bilateral filter. The bilateral filter was the fastest of them, yet still took longer computational time compared to simple filters. The adaptive filters took even longer time to complete their run.\n",
        "\n",
        "\n",
        "\n",
        "\n",
        "Moreover, with adaptive filters increasing the kernel size increases the computational time exponentially, unlike simple filters.\n",
        "\n",
        "\n",
        "\n",
        "\n",
        "While adaptive filters indeed preserve the edges/details much better than the other filters, they are much more expensive computationally. and that compared on a few low resolution images, imagen using them on high resolution images, or even a video."
      ],
      "metadata": {
        "id": "M3HZ8xDNS27y"
      }
    },
    {
      "cell_type": "markdown",
      "source": [
        "The bilateral filter although kept in mind preserving the edges/details, takes shorter computational time, because it doesn't depend on changing the kernal size, more than once, for each pixel in the image. Its mathematical equation ensures the preservation of edges and the soothing of noise in the same step, unlike advanced filters.\n",
        "\n",
        "\n",
        "\n",
        "\n",
        "Even for high resolution images bilateral filters still perform well in reasonable time."
      ],
      "metadata": {
        "id": "riTwrrACUyoE"
      }
    },
    {
      "cell_type": "code",
      "source": [
        "print(\"average MSEs:\")\n",
        "display(mse_df_expanded)"
      ],
      "metadata": {
        "colab": {
          "base_uri": "https://localhost:8080/",
          "height": 286
        },
        "id": "UMF_ZPDxTG0v",
        "outputId": "bfd5c770-4ac2-4224-a1f4-e0540881d126"
      },
      "execution_count": 142,
      "outputs": [
        {
          "output_type": "stream",
          "name": "stdout",
          "text": [
            "average MSEs:\n"
          ]
        },
        {
          "output_type": "display_data",
          "data": {
            "text/plain": [
              "                       Salt and Pepper              Gaussian           \n",
              "                              kernel=5  kernel=11   kernel=5  kernel=11\n",
              "box filter                   79.275445  86.543610  92.440912  92.706772\n",
              "Gaussian filter              68.556297  68.969482  93.161259  93.138986\n",
              "median filter                25.396503  33.535422  92.230357  91.169554\n",
              "adaptive mean filter          9.170554  12.488214  87.735114  87.841073\n",
              "adaptive median filter        7.643507   8.625227  87.456907  87.499708\n",
              "bilateral filter             46.914891  54.977402  91.802728  91.672363"
            ],
            "text/html": [
              "\n",
              "  <div id=\"df-6c8f9aff-ad18-4e44-b195-0829b8573441\" class=\"colab-df-container\">\n",
              "    <div>\n",
              "<style scoped>\n",
              "    .dataframe tbody tr th:only-of-type {\n",
              "        vertical-align: middle;\n",
              "    }\n",
              "\n",
              "    .dataframe tbody tr th {\n",
              "        vertical-align: top;\n",
              "    }\n",
              "\n",
              "    .dataframe thead tr th {\n",
              "        text-align: left;\n",
              "    }\n",
              "</style>\n",
              "<table border=\"1\" class=\"dataframe\">\n",
              "  <thead>\n",
              "    <tr>\n",
              "      <th></th>\n",
              "      <th colspan=\"2\" halign=\"left\">Salt and Pepper</th>\n",
              "      <th colspan=\"2\" halign=\"left\">Gaussian</th>\n",
              "    </tr>\n",
              "    <tr>\n",
              "      <th></th>\n",
              "      <th>kernel=5</th>\n",
              "      <th>kernel=11</th>\n",
              "      <th>kernel=5</th>\n",
              "      <th>kernel=11</th>\n",
              "    </tr>\n",
              "  </thead>\n",
              "  <tbody>\n",
              "    <tr>\n",
              "      <th>box filter</th>\n",
              "      <td>79.275445</td>\n",
              "      <td>86.543610</td>\n",
              "      <td>92.440912</td>\n",
              "      <td>92.706772</td>\n",
              "    </tr>\n",
              "    <tr>\n",
              "      <th>Gaussian filter</th>\n",
              "      <td>68.556297</td>\n",
              "      <td>68.969482</td>\n",
              "      <td>93.161259</td>\n",
              "      <td>93.138986</td>\n",
              "    </tr>\n",
              "    <tr>\n",
              "      <th>median filter</th>\n",
              "      <td>25.396503</td>\n",
              "      <td>33.535422</td>\n",
              "      <td>92.230357</td>\n",
              "      <td>91.169554</td>\n",
              "    </tr>\n",
              "    <tr>\n",
              "      <th>adaptive mean filter</th>\n",
              "      <td>9.170554</td>\n",
              "      <td>12.488214</td>\n",
              "      <td>87.735114</td>\n",
              "      <td>87.841073</td>\n",
              "    </tr>\n",
              "    <tr>\n",
              "      <th>adaptive median filter</th>\n",
              "      <td>7.643507</td>\n",
              "      <td>8.625227</td>\n",
              "      <td>87.456907</td>\n",
              "      <td>87.499708</td>\n",
              "    </tr>\n",
              "    <tr>\n",
              "      <th>bilateral filter</th>\n",
              "      <td>46.914891</td>\n",
              "      <td>54.977402</td>\n",
              "      <td>91.802728</td>\n",
              "      <td>91.672363</td>\n",
              "    </tr>\n",
              "  </tbody>\n",
              "</table>\n",
              "</div>\n",
              "    <div class=\"colab-df-buttons\">\n",
              "\n",
              "  <div class=\"colab-df-container\">\n",
              "    <button class=\"colab-df-convert\" onclick=\"convertToInteractive('df-6c8f9aff-ad18-4e44-b195-0829b8573441')\"\n",
              "            title=\"Convert this dataframe to an interactive table.\"\n",
              "            style=\"display:none;\">\n",
              "\n",
              "  <svg xmlns=\"http://www.w3.org/2000/svg\" height=\"24px\" viewBox=\"0 -960 960 960\">\n",
              "    <path d=\"M120-120v-720h720v720H120Zm60-500h600v-160H180v160Zm220 220h160v-160H400v160Zm0 220h160v-160H400v160ZM180-400h160v-160H180v160Zm440 0h160v-160H620v160ZM180-180h160v-160H180v160Zm440 0h160v-160H620v160Z\"/>\n",
              "  </svg>\n",
              "    </button>\n",
              "\n",
              "  <style>\n",
              "    .colab-df-container {\n",
              "      display:flex;\n",
              "      gap: 12px;\n",
              "    }\n",
              "\n",
              "    .colab-df-convert {\n",
              "      background-color: #E8F0FE;\n",
              "      border: none;\n",
              "      border-radius: 50%;\n",
              "      cursor: pointer;\n",
              "      display: none;\n",
              "      fill: #1967D2;\n",
              "      height: 32px;\n",
              "      padding: 0 0 0 0;\n",
              "      width: 32px;\n",
              "    }\n",
              "\n",
              "    .colab-df-convert:hover {\n",
              "      background-color: #E2EBFA;\n",
              "      box-shadow: 0px 1px 2px rgba(60, 64, 67, 0.3), 0px 1px 3px 1px rgba(60, 64, 67, 0.15);\n",
              "      fill: #174EA6;\n",
              "    }\n",
              "\n",
              "    .colab-df-buttons div {\n",
              "      margin-bottom: 4px;\n",
              "    }\n",
              "\n",
              "    [theme=dark] .colab-df-convert {\n",
              "      background-color: #3B4455;\n",
              "      fill: #D2E3FC;\n",
              "    }\n",
              "\n",
              "    [theme=dark] .colab-df-convert:hover {\n",
              "      background-color: #434B5C;\n",
              "      box-shadow: 0px 1px 3px 1px rgba(0, 0, 0, 0.15);\n",
              "      filter: drop-shadow(0px 1px 2px rgba(0, 0, 0, 0.3));\n",
              "      fill: #FFFFFF;\n",
              "    }\n",
              "  </style>\n",
              "\n",
              "    <script>\n",
              "      const buttonEl =\n",
              "        document.querySelector('#df-6c8f9aff-ad18-4e44-b195-0829b8573441 button.colab-df-convert');\n",
              "      buttonEl.style.display =\n",
              "        google.colab.kernel.accessAllowed ? 'block' : 'none';\n",
              "\n",
              "      async function convertToInteractive(key) {\n",
              "        const element = document.querySelector('#df-6c8f9aff-ad18-4e44-b195-0829b8573441');\n",
              "        const dataTable =\n",
              "          await google.colab.kernel.invokeFunction('convertToInteractive',\n",
              "                                                    [key], {});\n",
              "        if (!dataTable) return;\n",
              "\n",
              "        const docLinkHtml = 'Like what you see? Visit the ' +\n",
              "          '<a target=\"_blank\" href=https://colab.research.google.com/notebooks/data_table.ipynb>data table notebook</a>'\n",
              "          + ' to learn more about interactive tables.';\n",
              "        element.innerHTML = '';\n",
              "        dataTable['output_type'] = 'display_data';\n",
              "        await google.colab.output.renderOutput(dataTable, element);\n",
              "        const docLink = document.createElement('div');\n",
              "        docLink.innerHTML = docLinkHtml;\n",
              "        element.appendChild(docLink);\n",
              "      }\n",
              "    </script>\n",
              "  </div>\n",
              "\n",
              "\n",
              "<div id=\"df-e2bf3ffc-6104-467a-965a-8295ef788ddd\">\n",
              "  <button class=\"colab-df-quickchart\" onclick=\"quickchart('df-e2bf3ffc-6104-467a-965a-8295ef788ddd')\"\n",
              "            title=\"Suggest charts\"\n",
              "            style=\"display:none;\">\n",
              "\n",
              "<svg xmlns=\"http://www.w3.org/2000/svg\" height=\"24px\"viewBox=\"0 0 24 24\"\n",
              "     width=\"24px\">\n",
              "    <g>\n",
              "        <path d=\"M19 3H5c-1.1 0-2 .9-2 2v14c0 1.1.9 2 2 2h14c1.1 0 2-.9 2-2V5c0-1.1-.9-2-2-2zM9 17H7v-7h2v7zm4 0h-2V7h2v10zm4 0h-2v-4h2v4z\"/>\n",
              "    </g>\n",
              "</svg>\n",
              "  </button>\n",
              "\n",
              "<style>\n",
              "  .colab-df-quickchart {\n",
              "      --bg-color: #E8F0FE;\n",
              "      --fill-color: #1967D2;\n",
              "      --hover-bg-color: #E2EBFA;\n",
              "      --hover-fill-color: #174EA6;\n",
              "      --disabled-fill-color: #AAA;\n",
              "      --disabled-bg-color: #DDD;\n",
              "  }\n",
              "\n",
              "  [theme=dark] .colab-df-quickchart {\n",
              "      --bg-color: #3B4455;\n",
              "      --fill-color: #D2E3FC;\n",
              "      --hover-bg-color: #434B5C;\n",
              "      --hover-fill-color: #FFFFFF;\n",
              "      --disabled-bg-color: #3B4455;\n",
              "      --disabled-fill-color: #666;\n",
              "  }\n",
              "\n",
              "  .colab-df-quickchart {\n",
              "    background-color: var(--bg-color);\n",
              "    border: none;\n",
              "    border-radius: 50%;\n",
              "    cursor: pointer;\n",
              "    display: none;\n",
              "    fill: var(--fill-color);\n",
              "    height: 32px;\n",
              "    padding: 0;\n",
              "    width: 32px;\n",
              "  }\n",
              "\n",
              "  .colab-df-quickchart:hover {\n",
              "    background-color: var(--hover-bg-color);\n",
              "    box-shadow: 0 1px 2px rgba(60, 64, 67, 0.3), 0 1px 3px 1px rgba(60, 64, 67, 0.15);\n",
              "    fill: var(--button-hover-fill-color);\n",
              "  }\n",
              "\n",
              "  .colab-df-quickchart-complete:disabled,\n",
              "  .colab-df-quickchart-complete:disabled:hover {\n",
              "    background-color: var(--disabled-bg-color);\n",
              "    fill: var(--disabled-fill-color);\n",
              "    box-shadow: none;\n",
              "  }\n",
              "\n",
              "  .colab-df-spinner {\n",
              "    border: 2px solid var(--fill-color);\n",
              "    border-color: transparent;\n",
              "    border-bottom-color: var(--fill-color);\n",
              "    animation:\n",
              "      spin 1s steps(1) infinite;\n",
              "  }\n",
              "\n",
              "  @keyframes spin {\n",
              "    0% {\n",
              "      border-color: transparent;\n",
              "      border-bottom-color: var(--fill-color);\n",
              "      border-left-color: var(--fill-color);\n",
              "    }\n",
              "    20% {\n",
              "      border-color: transparent;\n",
              "      border-left-color: var(--fill-color);\n",
              "      border-top-color: var(--fill-color);\n",
              "    }\n",
              "    30% {\n",
              "      border-color: transparent;\n",
              "      border-left-color: var(--fill-color);\n",
              "      border-top-color: var(--fill-color);\n",
              "      border-right-color: var(--fill-color);\n",
              "    }\n",
              "    40% {\n",
              "      border-color: transparent;\n",
              "      border-right-color: var(--fill-color);\n",
              "      border-top-color: var(--fill-color);\n",
              "    }\n",
              "    60% {\n",
              "      border-color: transparent;\n",
              "      border-right-color: var(--fill-color);\n",
              "    }\n",
              "    80% {\n",
              "      border-color: transparent;\n",
              "      border-right-color: var(--fill-color);\n",
              "      border-bottom-color: var(--fill-color);\n",
              "    }\n",
              "    90% {\n",
              "      border-color: transparent;\n",
              "      border-bottom-color: var(--fill-color);\n",
              "    }\n",
              "  }\n",
              "</style>\n",
              "\n",
              "  <script>\n",
              "    async function quickchart(key) {\n",
              "      const quickchartButtonEl =\n",
              "        document.querySelector('#' + key + ' button');\n",
              "      quickchartButtonEl.disabled = true;  // To prevent multiple clicks.\n",
              "      quickchartButtonEl.classList.add('colab-df-spinner');\n",
              "      try {\n",
              "        const charts = await google.colab.kernel.invokeFunction(\n",
              "            'suggestCharts', [key], {});\n",
              "      } catch (error) {\n",
              "        console.error('Error during call to suggestCharts:', error);\n",
              "      }\n",
              "      quickchartButtonEl.classList.remove('colab-df-spinner');\n",
              "      quickchartButtonEl.classList.add('colab-df-quickchart-complete');\n",
              "    }\n",
              "    (() => {\n",
              "      let quickchartButtonEl =\n",
              "        document.querySelector('#df-e2bf3ffc-6104-467a-965a-8295ef788ddd button');\n",
              "      quickchartButtonEl.style.display =\n",
              "        google.colab.kernel.accessAllowed ? 'block' : 'none';\n",
              "    })();\n",
              "  </script>\n",
              "</div>\n",
              "\n",
              "  <div id=\"id_cbaa1003-d861-4422-b1f4-c5c6e2287b8f\">\n",
              "    <style>\n",
              "      .colab-df-generate {\n",
              "        background-color: #E8F0FE;\n",
              "        border: none;\n",
              "        border-radius: 50%;\n",
              "        cursor: pointer;\n",
              "        display: none;\n",
              "        fill: #1967D2;\n",
              "        height: 32px;\n",
              "        padding: 0 0 0 0;\n",
              "        width: 32px;\n",
              "      }\n",
              "\n",
              "      .colab-df-generate:hover {\n",
              "        background-color: #E2EBFA;\n",
              "        box-shadow: 0px 1px 2px rgba(60, 64, 67, 0.3), 0px 1px 3px 1px rgba(60, 64, 67, 0.15);\n",
              "        fill: #174EA6;\n",
              "      }\n",
              "\n",
              "      [theme=dark] .colab-df-generate {\n",
              "        background-color: #3B4455;\n",
              "        fill: #D2E3FC;\n",
              "      }\n",
              "\n",
              "      [theme=dark] .colab-df-generate:hover {\n",
              "        background-color: #434B5C;\n",
              "        box-shadow: 0px 1px 3px 1px rgba(0, 0, 0, 0.15);\n",
              "        filter: drop-shadow(0px 1px 2px rgba(0, 0, 0, 0.3));\n",
              "        fill: #FFFFFF;\n",
              "      }\n",
              "    </style>\n",
              "    <button class=\"colab-df-generate\" onclick=\"generateWithVariable('mse_df_expanded')\"\n",
              "            title=\"Generate code using this dataframe.\"\n",
              "            style=\"display:none;\">\n",
              "\n",
              "  <svg xmlns=\"http://www.w3.org/2000/svg\" height=\"24px\"viewBox=\"0 0 24 24\"\n",
              "       width=\"24px\">\n",
              "    <path d=\"M7,19H8.4L18.45,9,17,7.55,7,17.6ZM5,21V16.75L18.45,3.32a2,2,0,0,1,2.83,0l1.4,1.43a1.91,1.91,0,0,1,.58,1.4,1.91,1.91,0,0,1-.58,1.4L9.25,21ZM18.45,9,17,7.55Zm-12,3A5.31,5.31,0,0,0,4.9,8.1,5.31,5.31,0,0,0,1,6.5,5.31,5.31,0,0,0,4.9,4.9,5.31,5.31,0,0,0,6.5,1,5.31,5.31,0,0,0,8.1,4.9,5.31,5.31,0,0,0,12,6.5,5.46,5.46,0,0,0,6.5,12Z\"/>\n",
              "  </svg>\n",
              "    </button>\n",
              "    <script>\n",
              "      (() => {\n",
              "      const buttonEl =\n",
              "        document.querySelector('#id_cbaa1003-d861-4422-b1f4-c5c6e2287b8f button.colab-df-generate');\n",
              "      buttonEl.style.display =\n",
              "        google.colab.kernel.accessAllowed ? 'block' : 'none';\n",
              "\n",
              "      buttonEl.onclick = () => {\n",
              "        google.colab.notebook.generateWithVariable('mse_df_expanded');\n",
              "      }\n",
              "      })();\n",
              "    </script>\n",
              "  </div>\n",
              "\n",
              "    </div>\n",
              "  </div>\n"
            ],
            "application/vnd.google.colaboratory.intrinsic+json": {
              "type": "dataframe",
              "variable_name": "mse_df_expanded",
              "summary": "{\n  \"name\": \"mse_df_expanded\",\n  \"rows\": 6,\n  \"fields\": [\n    {\n      \"column\": [\n        \"Salt and Pepper\",\n        \"kernel=5\"\n      ],\n      \"properties\": {\n        \"dtype\": \"number\",\n        \"std\": 30.380766110134733,\n        \"min\": 7.64350729088989,\n        \"max\": 79.27544544603639,\n        \"num_unique_values\": 6,\n        \"samples\": [\n          79.27544544603639,\n          68.55629655716312,\n          46.91489094559646\n        ],\n        \"semantic_type\": \"\",\n        \"description\": \"\"\n      }\n    },\n    {\n      \"column\": [\n        \"Salt and Pepper\",\n        \"kernel=11\"\n      ],\n      \"properties\": {\n        \"dtype\": \"number\",\n        \"std\": 31.329205104253074,\n        \"min\": 8.625226519968642,\n        \"max\": 86.54360995378096,\n        \"num_unique_values\": 6,\n        \"samples\": [\n          86.54360995378096,\n          68.9694820107575,\n          54.977402183792094\n        ],\n        \"semantic_type\": \"\",\n        \"description\": \"\"\n      }\n    },\n    {\n      \"column\": [\n        \"Gaussian\",\n        \"kernel=5\"\n      ],\n      \"properties\": {\n        \"dtype\": \"number\",\n        \"std\": 2.525438426483057,\n        \"min\": 87.45690669052698,\n        \"max\": 93.16125932199738,\n        \"num_unique_values\": 6,\n        \"samples\": [\n          92.44091176529274,\n          93.16125932199738,\n          91.80272776110009\n        ],\n        \"semantic_type\": \"\",\n        \"description\": \"\"\n      }\n    },\n    {\n      \"column\": [\n        \"Gaussian\",\n        \"kernel=11\"\n      ],\n      \"properties\": {\n        \"dtype\": \"number\",\n        \"std\": 2.4311391001530214,\n        \"min\": 87.49970844155779,\n        \"max\": 93.13898616725429,\n        \"num_unique_values\": 6,\n        \"samples\": [\n          92.70677240030038,\n          93.13898616725429,\n          91.67236280566765\n        ],\n        \"semantic_type\": \"\",\n        \"description\": \"\"\n      }\n    }\n  ]\n}"
            }
          },
          "metadata": {}
        }
      ]
    },
    {
      "cell_type": "markdown",
      "source": [
        "When dealing with salt and pepper noise, the box filter has the largest average MSE, as its simplicity doesn't allow it to remove the outlier effectively. The Gaussian filter did better but not much, as it worked on bringing the pixels values closer to their neighbors, but not on removing outliers. And the median filter while removing the outliers, did damage the edges, especially with large kernel sizes.\n",
        "\n",
        "\n",
        "\n",
        "\n",
        "Moving to the adaptive filter. The adaptive mean filter did much better than the median filter, the best filter from the simple filters. While the adaptive median filter performed even better. Although they took longer to run and process the images, they were able to effectively remove the noise, and preserve the edges.\n",
        "\n",
        "\n",
        "\n",
        "\n",
        "The bilateral filter did better than the box and Gaussian filter, as it works on preserving the edges, and blurring the noise. It still performed worse than the median filter, because it's an improvement on the Gaussian filter, meaning it also works on smoothing the image, by bringing the pixels values closer, and doesn't remove outliers."
      ],
      "metadata": {
        "id": "WyOJKopqYMLN"
      }
    },
    {
      "cell_type": "markdown",
      "source": [
        "Dealing with Gaussian noise is more tricky. As the noise tends to be in values close to the pixels' true values, and most of it can't be regarded as outliers. All we could notice is that visually the Gaussian filter, and the bilateral filter managed to produce images that are more visually appealing than other filters. As they smoothed the images better.\n",
        "\n",
        "\n",
        "\n",
        "\n",
        "Nevertheless, the bilateral filter preserves the edges better. Hence why if the smoothing of the images is a first step before using an edge detection algorithm, the bilateral filter is preferred."
      ],
      "metadata": {
        "id": "u6baWmftaTbF"
      }
    },
    {
      "cell_type": "code",
      "source": [
        "print(\"average PSNRs (dB):\")\n",
        "display(psnr_df_expanded)"
      ],
      "metadata": {
        "colab": {
          "base_uri": "https://localhost:8080/",
          "height": 286
        },
        "id": "HY1uR5GDYD_r",
        "outputId": "4132e8f0-cc42-491c-d0c0-7ea4eb730b16"
      },
      "execution_count": 144,
      "outputs": [
        {
          "output_type": "stream",
          "name": "stdout",
          "text": [
            "average PSNRs (dB):\n"
          ]
        },
        {
          "output_type": "display_data",
          "data": {
            "text/plain": [
              "                       Salt and Pepper              Gaussian           \n",
              "                              kernel=5  kernel=11   kernel=5  kernel=11\n",
              "box filter                   29.513939  29.039323  28.691552  28.603494\n",
              "Gaussian filter              30.275650  30.253101  28.665735  28.666915\n",
              "median filter                34.349359  33.225028  28.723928  28.751280\n",
              "adaptive mean filter         40.902870  38.776616  28.923841  28.915479\n",
              "adaptive median filter       41.828652  40.187863  28.947589  28.945760\n",
              "bilateral filter             31.835929  31.021815  28.749776  28.700903"
            ],
            "text/html": [
              "\n",
              "  <div id=\"df-669fec78-0765-4ee6-b52e-d0c411542b94\" class=\"colab-df-container\">\n",
              "    <div>\n",
              "<style scoped>\n",
              "    .dataframe tbody tr th:only-of-type {\n",
              "        vertical-align: middle;\n",
              "    }\n",
              "\n",
              "    .dataframe tbody tr th {\n",
              "        vertical-align: top;\n",
              "    }\n",
              "\n",
              "    .dataframe thead tr th {\n",
              "        text-align: left;\n",
              "    }\n",
              "</style>\n",
              "<table border=\"1\" class=\"dataframe\">\n",
              "  <thead>\n",
              "    <tr>\n",
              "      <th></th>\n",
              "      <th colspan=\"2\" halign=\"left\">Salt and Pepper</th>\n",
              "      <th colspan=\"2\" halign=\"left\">Gaussian</th>\n",
              "    </tr>\n",
              "    <tr>\n",
              "      <th></th>\n",
              "      <th>kernel=5</th>\n",
              "      <th>kernel=11</th>\n",
              "      <th>kernel=5</th>\n",
              "      <th>kernel=11</th>\n",
              "    </tr>\n",
              "  </thead>\n",
              "  <tbody>\n",
              "    <tr>\n",
              "      <th>box filter</th>\n",
              "      <td>29.513939</td>\n",
              "      <td>29.039323</td>\n",
              "      <td>28.691552</td>\n",
              "      <td>28.603494</td>\n",
              "    </tr>\n",
              "    <tr>\n",
              "      <th>Gaussian filter</th>\n",
              "      <td>30.275650</td>\n",
              "      <td>30.253101</td>\n",
              "      <td>28.665735</td>\n",
              "      <td>28.666915</td>\n",
              "    </tr>\n",
              "    <tr>\n",
              "      <th>median filter</th>\n",
              "      <td>34.349359</td>\n",
              "      <td>33.225028</td>\n",
              "      <td>28.723928</td>\n",
              "      <td>28.751280</td>\n",
              "    </tr>\n",
              "    <tr>\n",
              "      <th>adaptive mean filter</th>\n",
              "      <td>40.902870</td>\n",
              "      <td>38.776616</td>\n",
              "      <td>28.923841</td>\n",
              "      <td>28.915479</td>\n",
              "    </tr>\n",
              "    <tr>\n",
              "      <th>adaptive median filter</th>\n",
              "      <td>41.828652</td>\n",
              "      <td>40.187863</td>\n",
              "      <td>28.947589</td>\n",
              "      <td>28.945760</td>\n",
              "    </tr>\n",
              "    <tr>\n",
              "      <th>bilateral filter</th>\n",
              "      <td>31.835929</td>\n",
              "      <td>31.021815</td>\n",
              "      <td>28.749776</td>\n",
              "      <td>28.700903</td>\n",
              "    </tr>\n",
              "  </tbody>\n",
              "</table>\n",
              "</div>\n",
              "    <div class=\"colab-df-buttons\">\n",
              "\n",
              "  <div class=\"colab-df-container\">\n",
              "    <button class=\"colab-df-convert\" onclick=\"convertToInteractive('df-669fec78-0765-4ee6-b52e-d0c411542b94')\"\n",
              "            title=\"Convert this dataframe to an interactive table.\"\n",
              "            style=\"display:none;\">\n",
              "\n",
              "  <svg xmlns=\"http://www.w3.org/2000/svg\" height=\"24px\" viewBox=\"0 -960 960 960\">\n",
              "    <path d=\"M120-120v-720h720v720H120Zm60-500h600v-160H180v160Zm220 220h160v-160H400v160Zm0 220h160v-160H400v160ZM180-400h160v-160H180v160Zm440 0h160v-160H620v160ZM180-180h160v-160H180v160Zm440 0h160v-160H620v160Z\"/>\n",
              "  </svg>\n",
              "    </button>\n",
              "\n",
              "  <style>\n",
              "    .colab-df-container {\n",
              "      display:flex;\n",
              "      gap: 12px;\n",
              "    }\n",
              "\n",
              "    .colab-df-convert {\n",
              "      background-color: #E8F0FE;\n",
              "      border: none;\n",
              "      border-radius: 50%;\n",
              "      cursor: pointer;\n",
              "      display: none;\n",
              "      fill: #1967D2;\n",
              "      height: 32px;\n",
              "      padding: 0 0 0 0;\n",
              "      width: 32px;\n",
              "    }\n",
              "\n",
              "    .colab-df-convert:hover {\n",
              "      background-color: #E2EBFA;\n",
              "      box-shadow: 0px 1px 2px rgba(60, 64, 67, 0.3), 0px 1px 3px 1px rgba(60, 64, 67, 0.15);\n",
              "      fill: #174EA6;\n",
              "    }\n",
              "\n",
              "    .colab-df-buttons div {\n",
              "      margin-bottom: 4px;\n",
              "    }\n",
              "\n",
              "    [theme=dark] .colab-df-convert {\n",
              "      background-color: #3B4455;\n",
              "      fill: #D2E3FC;\n",
              "    }\n",
              "\n",
              "    [theme=dark] .colab-df-convert:hover {\n",
              "      background-color: #434B5C;\n",
              "      box-shadow: 0px 1px 3px 1px rgba(0, 0, 0, 0.15);\n",
              "      filter: drop-shadow(0px 1px 2px rgba(0, 0, 0, 0.3));\n",
              "      fill: #FFFFFF;\n",
              "    }\n",
              "  </style>\n",
              "\n",
              "    <script>\n",
              "      const buttonEl =\n",
              "        document.querySelector('#df-669fec78-0765-4ee6-b52e-d0c411542b94 button.colab-df-convert');\n",
              "      buttonEl.style.display =\n",
              "        google.colab.kernel.accessAllowed ? 'block' : 'none';\n",
              "\n",
              "      async function convertToInteractive(key) {\n",
              "        const element = document.querySelector('#df-669fec78-0765-4ee6-b52e-d0c411542b94');\n",
              "        const dataTable =\n",
              "          await google.colab.kernel.invokeFunction('convertToInteractive',\n",
              "                                                    [key], {});\n",
              "        if (!dataTable) return;\n",
              "\n",
              "        const docLinkHtml = 'Like what you see? Visit the ' +\n",
              "          '<a target=\"_blank\" href=https://colab.research.google.com/notebooks/data_table.ipynb>data table notebook</a>'\n",
              "          + ' to learn more about interactive tables.';\n",
              "        element.innerHTML = '';\n",
              "        dataTable['output_type'] = 'display_data';\n",
              "        await google.colab.output.renderOutput(dataTable, element);\n",
              "        const docLink = document.createElement('div');\n",
              "        docLink.innerHTML = docLinkHtml;\n",
              "        element.appendChild(docLink);\n",
              "      }\n",
              "    </script>\n",
              "  </div>\n",
              "\n",
              "\n",
              "<div id=\"df-9db272b1-306d-47b7-8190-8355c48617ee\">\n",
              "  <button class=\"colab-df-quickchart\" onclick=\"quickchart('df-9db272b1-306d-47b7-8190-8355c48617ee')\"\n",
              "            title=\"Suggest charts\"\n",
              "            style=\"display:none;\">\n",
              "\n",
              "<svg xmlns=\"http://www.w3.org/2000/svg\" height=\"24px\"viewBox=\"0 0 24 24\"\n",
              "     width=\"24px\">\n",
              "    <g>\n",
              "        <path d=\"M19 3H5c-1.1 0-2 .9-2 2v14c0 1.1.9 2 2 2h14c1.1 0 2-.9 2-2V5c0-1.1-.9-2-2-2zM9 17H7v-7h2v7zm4 0h-2V7h2v10zm4 0h-2v-4h2v4z\"/>\n",
              "    </g>\n",
              "</svg>\n",
              "  </button>\n",
              "\n",
              "<style>\n",
              "  .colab-df-quickchart {\n",
              "      --bg-color: #E8F0FE;\n",
              "      --fill-color: #1967D2;\n",
              "      --hover-bg-color: #E2EBFA;\n",
              "      --hover-fill-color: #174EA6;\n",
              "      --disabled-fill-color: #AAA;\n",
              "      --disabled-bg-color: #DDD;\n",
              "  }\n",
              "\n",
              "  [theme=dark] .colab-df-quickchart {\n",
              "      --bg-color: #3B4455;\n",
              "      --fill-color: #D2E3FC;\n",
              "      --hover-bg-color: #434B5C;\n",
              "      --hover-fill-color: #FFFFFF;\n",
              "      --disabled-bg-color: #3B4455;\n",
              "      --disabled-fill-color: #666;\n",
              "  }\n",
              "\n",
              "  .colab-df-quickchart {\n",
              "    background-color: var(--bg-color);\n",
              "    border: none;\n",
              "    border-radius: 50%;\n",
              "    cursor: pointer;\n",
              "    display: none;\n",
              "    fill: var(--fill-color);\n",
              "    height: 32px;\n",
              "    padding: 0;\n",
              "    width: 32px;\n",
              "  }\n",
              "\n",
              "  .colab-df-quickchart:hover {\n",
              "    background-color: var(--hover-bg-color);\n",
              "    box-shadow: 0 1px 2px rgba(60, 64, 67, 0.3), 0 1px 3px 1px rgba(60, 64, 67, 0.15);\n",
              "    fill: var(--button-hover-fill-color);\n",
              "  }\n",
              "\n",
              "  .colab-df-quickchart-complete:disabled,\n",
              "  .colab-df-quickchart-complete:disabled:hover {\n",
              "    background-color: var(--disabled-bg-color);\n",
              "    fill: var(--disabled-fill-color);\n",
              "    box-shadow: none;\n",
              "  }\n",
              "\n",
              "  .colab-df-spinner {\n",
              "    border: 2px solid var(--fill-color);\n",
              "    border-color: transparent;\n",
              "    border-bottom-color: var(--fill-color);\n",
              "    animation:\n",
              "      spin 1s steps(1) infinite;\n",
              "  }\n",
              "\n",
              "  @keyframes spin {\n",
              "    0% {\n",
              "      border-color: transparent;\n",
              "      border-bottom-color: var(--fill-color);\n",
              "      border-left-color: var(--fill-color);\n",
              "    }\n",
              "    20% {\n",
              "      border-color: transparent;\n",
              "      border-left-color: var(--fill-color);\n",
              "      border-top-color: var(--fill-color);\n",
              "    }\n",
              "    30% {\n",
              "      border-color: transparent;\n",
              "      border-left-color: var(--fill-color);\n",
              "      border-top-color: var(--fill-color);\n",
              "      border-right-color: var(--fill-color);\n",
              "    }\n",
              "    40% {\n",
              "      border-color: transparent;\n",
              "      border-right-color: var(--fill-color);\n",
              "      border-top-color: var(--fill-color);\n",
              "    }\n",
              "    60% {\n",
              "      border-color: transparent;\n",
              "      border-right-color: var(--fill-color);\n",
              "    }\n",
              "    80% {\n",
              "      border-color: transparent;\n",
              "      border-right-color: var(--fill-color);\n",
              "      border-bottom-color: var(--fill-color);\n",
              "    }\n",
              "    90% {\n",
              "      border-color: transparent;\n",
              "      border-bottom-color: var(--fill-color);\n",
              "    }\n",
              "  }\n",
              "</style>\n",
              "\n",
              "  <script>\n",
              "    async function quickchart(key) {\n",
              "      const quickchartButtonEl =\n",
              "        document.querySelector('#' + key + ' button');\n",
              "      quickchartButtonEl.disabled = true;  // To prevent multiple clicks.\n",
              "      quickchartButtonEl.classList.add('colab-df-spinner');\n",
              "      try {\n",
              "        const charts = await google.colab.kernel.invokeFunction(\n",
              "            'suggestCharts', [key], {});\n",
              "      } catch (error) {\n",
              "        console.error('Error during call to suggestCharts:', error);\n",
              "      }\n",
              "      quickchartButtonEl.classList.remove('colab-df-spinner');\n",
              "      quickchartButtonEl.classList.add('colab-df-quickchart-complete');\n",
              "    }\n",
              "    (() => {\n",
              "      let quickchartButtonEl =\n",
              "        document.querySelector('#df-9db272b1-306d-47b7-8190-8355c48617ee button');\n",
              "      quickchartButtonEl.style.display =\n",
              "        google.colab.kernel.accessAllowed ? 'block' : 'none';\n",
              "    })();\n",
              "  </script>\n",
              "</div>\n",
              "\n",
              "  <div id=\"id_5e3eefc7-82f5-41b7-83ce-91bfb3d5fb46\">\n",
              "    <style>\n",
              "      .colab-df-generate {\n",
              "        background-color: #E8F0FE;\n",
              "        border: none;\n",
              "        border-radius: 50%;\n",
              "        cursor: pointer;\n",
              "        display: none;\n",
              "        fill: #1967D2;\n",
              "        height: 32px;\n",
              "        padding: 0 0 0 0;\n",
              "        width: 32px;\n",
              "      }\n",
              "\n",
              "      .colab-df-generate:hover {\n",
              "        background-color: #E2EBFA;\n",
              "        box-shadow: 0px 1px 2px rgba(60, 64, 67, 0.3), 0px 1px 3px 1px rgba(60, 64, 67, 0.15);\n",
              "        fill: #174EA6;\n",
              "      }\n",
              "\n",
              "      [theme=dark] .colab-df-generate {\n",
              "        background-color: #3B4455;\n",
              "        fill: #D2E3FC;\n",
              "      }\n",
              "\n",
              "      [theme=dark] .colab-df-generate:hover {\n",
              "        background-color: #434B5C;\n",
              "        box-shadow: 0px 1px 3px 1px rgba(0, 0, 0, 0.15);\n",
              "        filter: drop-shadow(0px 1px 2px rgba(0, 0, 0, 0.3));\n",
              "        fill: #FFFFFF;\n",
              "      }\n",
              "    </style>\n",
              "    <button class=\"colab-df-generate\" onclick=\"generateWithVariable('psnr_df_expanded')\"\n",
              "            title=\"Generate code using this dataframe.\"\n",
              "            style=\"display:none;\">\n",
              "\n",
              "  <svg xmlns=\"http://www.w3.org/2000/svg\" height=\"24px\"viewBox=\"0 0 24 24\"\n",
              "       width=\"24px\">\n",
              "    <path d=\"M7,19H8.4L18.45,9,17,7.55,7,17.6ZM5,21V16.75L18.45,3.32a2,2,0,0,1,2.83,0l1.4,1.43a1.91,1.91,0,0,1,.58,1.4,1.91,1.91,0,0,1-.58,1.4L9.25,21ZM18.45,9,17,7.55Zm-12,3A5.31,5.31,0,0,0,4.9,8.1,5.31,5.31,0,0,0,1,6.5,5.31,5.31,0,0,0,4.9,4.9,5.31,5.31,0,0,0,6.5,1,5.31,5.31,0,0,0,8.1,4.9,5.31,5.31,0,0,0,12,6.5,5.46,5.46,0,0,0,6.5,12Z\"/>\n",
              "  </svg>\n",
              "    </button>\n",
              "    <script>\n",
              "      (() => {\n",
              "      const buttonEl =\n",
              "        document.querySelector('#id_5e3eefc7-82f5-41b7-83ce-91bfb3d5fb46 button.colab-df-generate');\n",
              "      buttonEl.style.display =\n",
              "        google.colab.kernel.accessAllowed ? 'block' : 'none';\n",
              "\n",
              "      buttonEl.onclick = () => {\n",
              "        google.colab.notebook.generateWithVariable('psnr_df_expanded');\n",
              "      }\n",
              "      })();\n",
              "    </script>\n",
              "  </div>\n",
              "\n",
              "    </div>\n",
              "  </div>\n"
            ],
            "application/vnd.google.colaboratory.intrinsic+json": {
              "type": "dataframe",
              "variable_name": "psnr_df_expanded",
              "summary": "{\n  \"name\": \"psnr_df_expanded\",\n  \"rows\": 6,\n  \"fields\": [\n    {\n      \"column\": [\n        \"Salt and Pepper\",\n        \"kernel=5\"\n      ],\n      \"properties\": {\n        \"dtype\": \"number\",\n        \"std\": 5.367429438772057,\n        \"min\": 29.513939176505275,\n        \"max\": 41.828651822227684,\n        \"num_unique_values\": 6,\n        \"samples\": [\n          29.513939176505275,\n          30.27564963465619,\n          31.835928516397797\n        ],\n        \"semantic_type\": \"\",\n        \"description\": \"\"\n      }\n    },\n    {\n      \"column\": [\n        \"Salt and Pepper\",\n        \"kernel=11\"\n      ],\n      \"properties\": {\n        \"dtype\": \"number\",\n        \"std\": 4.665839913803111,\n        \"min\": 29.039323335260278,\n        \"max\": 40.18786271577876,\n        \"num_unique_values\": 6,\n        \"samples\": [\n          29.039323335260278,\n          30.253101163014794,\n          31.021815165896484\n        ],\n        \"semantic_type\": \"\",\n        \"description\": \"\"\n      }\n    },\n    {\n      \"column\": [\n        \"Gaussian\",\n        \"kernel=5\"\n      ],\n      \"properties\": {\n        \"dtype\": \"number\",\n        \"std\": 0.12135040574784806,\n        \"min\": 28.665735471794612,\n        \"max\": 28.947588622118346,\n        \"num_unique_values\": 6,\n        \"samples\": [\n          28.69155170085817,\n          28.665735471794612,\n          28.749776110453904\n        ],\n        \"semantic_type\": \"\",\n        \"description\": \"\"\n      }\n    },\n    {\n      \"column\": [\n        \"Gaussian\",\n        \"kernel=11\"\n      ],\n      \"properties\": {\n        \"dtype\": \"number\",\n        \"std\": 0.13806778527098695,\n        \"min\": 28.60349364580841,\n        \"max\": 28.945760010268934,\n        \"num_unique_values\": 6,\n        \"samples\": [\n          28.60349364580841,\n          28.666914987229323,\n          28.700902510350968\n        ],\n        \"semantic_type\": \"\",\n        \"description\": \"\"\n      }\n    }\n  ]\n}"
            }
          },
          "metadata": {}
        }
      ]
    },
    {
      "cell_type": "markdown",
      "source": [
        "Peak Signal-to-Noise Ratio, is a measure of the quality of a processed image compared to an original image. It's commonly used in image processing to evaluate how well a process has preserved the visual quality of an image after transformation.\n",
        "\n",
        "![image.png](data:image/png;base64,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)"
      ],
      "metadata": {
        "id": "iQOBubthcbm5"
      }
    },
    {
      "cell_type": "markdown",
      "source": [
        "Higher PSNR values indicate better image quality (less difference between the original and processed images). High values typically range from 30 to 50 dB for good-quality images."
      ],
      "metadata": {
        "id": "9CIREstUbobz"
      }
    },
    {
      "cell_type": "markdown",
      "source": [
        "It's easy to see that the adaptive (in processing images with salt and pepper noise) produced images with higher quality than the other filters. Consequently, all of them preserve the images' details much better. While at the same time removing outliers and smoothing the image."
      ],
      "metadata": {
        "id": "8fHYSZfMc-9n"
      }
    },
    {
      "cell_type": "markdown",
      "source": [
        "# Colclusion:"
      ],
      "metadata": {
        "id": "MI5c2RttdwoN"
      }
    },
    {
      "cell_type": "markdown",
      "source": [
        "It's hard to say confidently that there's a filter better than the other, and it's clear that there's no perfect filter for all cases.\n",
        "\n",
        "\n",
        "\n",
        "\n",
        "For a simple application that doesn't depend on very short computational time, the box filter may be the better choice. If said application still needs short computational time, but needs to blur the images more, to produce more visually appealing images, the Gassian filter becomes the first choice to consider.\n",
        "\n",
        "\n",
        "\n",
        "\n",
        "If the images suffer from salt and pepper noise, or other noise that produces too much outliers, and a short computational time is still needed, the median filter is an ideal choice for this scenario."
      ],
      "metadata": {
        "id": "J31RlnDeeR6L"
      }
    },
    {
      "cell_type": "markdown",
      "source": [
        "But all these choices fail if the input images contain too much noise, and processing them is a first step before feeding them into another model, which may need to perform edge detection or the like on them.\n",
        "\n",
        "Remove the high levels of noise while simultaneously preserving edges is outside of these simple filters' abilities.\n",
        "\n",
        "\n",
        "\n",
        "\n",
        "In this case a tradeoff needs to happen. Sacrificing computational time in order to choose one of the more advanced filters that can perform the needed job.\n",
        "\n",
        "\n",
        "\n",
        "\n",
        "If the computational time still needs to be reasonable, and the application needs to output smooth visually appealing images, the bilateral filter is a fit solution.\n",
        "\n",
        "\n",
        "\n",
        "\n",
        "If the images suffer from too much outliers, the adaptive median filter will do a better job processing the images.\n",
        "\n",
        "\n",
        "\n",
        "\n",
        "All these filters have parameters like kernel size that affect their performance, allowing them to be suitable for a wide range of applications. But as always for better performance a longer computational time is needed."
      ],
      "metadata": {
        "id": "nARdiX2SfWEm"
      }
    },
    {
      "cell_type": "markdown",
      "source": [
        "There's no one correct answer for \"what filter should I use\"?"
      ],
      "metadata": {
        "id": "Dgy4E7z-g9Lr"
      }
    }
  ]
}